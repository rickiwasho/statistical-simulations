{
 "cells": [
  {
   "cell_type": "markdown",
   "metadata": {},
   "source": [
    "# Laboratorio 2\n",
    "### Entrega: martes 31 de agosto 2021, 23:59 horas\n"
   ]
  },
  {
   "cell_type": "markdown",
   "metadata": {},
   "source": [
    "## Algunas Variables Aleatorias Especiales\n",
    "En este laboratorio revisaremos algunos tipos de variables aleatorias especiales, definidas por que tienen  distribuciones de probabilidad conocidas. Trabajaremos tanto con v.a. discretas como continuas, y calcularemos y graficaremos las probabilidades teóricas (probabilidaes puntutales, funciones de  densidad y de distribución de probabilidad) y luego las vamos a comparar con datos obtenidos por simulación."
   ]
  },
  {
   "cell_type": "markdown",
   "metadata": {},
   "source": [
    "### Estadísticos asociados\n",
    "1. Posición:  tendencia central y no central\n",
    "   percentiles, media, moda\n",
    "\n",
    "2. Dispersión: \n",
    "    Varianza, desviación estándar\n",
    "\n",
    "3. Forma: \n",
    "    asimetría, curtosis. \n",
    "    \n",
    "   $$\\text{ Asimetría (skewness) }= \\frac{E[(X-\\mu)^3]}{\\sigma^3}$$\n",
    "   $$\\text{ Curtosis }= \\frac{E[(X-\\mu)^4]}{\\sigma^4} - 3$$"
   ]
  },
  {
   "cell_type": "code",
   "execution_count": 1,
   "metadata": {},
   "outputs": [],
   "source": [
    "# Pandas and numpy for data manipulation\n",
    "import pandas as pd\n",
    "import numpy as np\n",
    "import scipy.stats as stats\n",
    "import math\n",
    "\n",
    "# Matplotlib and seaborn for plotting\n",
    "import matplotlib.pyplot as plt\n",
    "import matplotlib\n",
    "%matplotlib inline\n",
    "\n",
    "matplotlib.rcParams['font.size'] = 18\n",
    "matplotlib.rcParams['figure.dpi'] = 200\n",
    "\n",
    "from IPython.core.pylabtools import figsize\n",
    "import random\n"
   ]
  },
  {
   "cell_type": "markdown",
   "metadata": {},
   "source": [
    "#### Distribución Bernoulli\n",
    "Suponga que se realiza un ensayo cuya salida es \"éxito\" o \"falla\". La v.a. entonces tiene sólo dos valores posibles: 1 si \"éxito\" 0 si no. Si $p$ es la probabilidad de éxito, entonces:\n",
    "\n",
    "$\\begin{equation}\n",
    "\\begin{array}{lll} \n",
    "P(X=1) & = &p \\qquad y \\qquad P(X=0) = 1-p \\\\\n",
    "P(X = i) & = & p^i (1-p)^{1-i} \\,, i=0,1\\\\\n",
    "E[X] & = & 1*p + 0*p = p\\\\\n",
    "E[X^2] & = & 1*p + 0*p = p\\\\\n",
    "Var(X) & = & E[X^2] - (E[X])^2 = p - p^2 = p(1-p)\\\\\n",
    "\\end{array}\n",
    "\\end{equation}$\n"
   ]
  },
  {
   "cell_type": "markdown",
   "metadata": {},
   "source": [
    "#### Distribución Binomial\n",
    "Suponga que se realizan $N$  ensayos independientes idénticos  Bernoulli  de parámetro $p$. La v.a. X que representa el número $k$ de ensayos existosos entre los $N$ ensayos realizados, se denomina Binomial y cumple:\n",
    "\n",
    "$\\begin{equation}\n",
    "\\begin{array}{lll} \n",
    "P(X=k) & = & {N \\choose k} p^k (1-p)^{N-k}, \\qquad k=0,1,...N \\\\\n",
    "E[X] & = & Np\\\\\n",
    "Var(X) & = & Np(1-p)\\\\\n",
    "Simetria(X) & = & \\frac{1-2p}{\\sqrt{np(1-p)}}\\\\\n",
    "Curtosis(X) & = & \\frac{1-6p(1-p)}{np(1-p)}\\\\\n",
    "\\end{array}\n",
    "\\end{equation}$"
   ]
  },
  {
   "cell_type": "markdown",
   "metadata": {},
   "source": [
    "### Simulación Variable Aleatoria con Distribución Binomial\n",
    "En esta sección utilizaremos la función generadora de valores aleatorios para la distribución binomial, y se compara la distribución empírica con la distribución teórica"
   ]
  },
  {
   "cell_type": "code",
   "execution_count": 2,
   "metadata": {},
   "outputs": [
    {
     "data": {
      "image/png": "[encoded data removed]",
      "text/plain": [
       "<Figure size 480x320 with 2 Axes>"
      ]
     },
     "metadata": {
      "needs_background": "light"
     },
     "output_type": "display_data"
    }
   ],
   "source": [
    "## simulación de size valores v.a. binomial\n",
    "size=100\n",
    "n=50\n",
    "p=0.2\n",
    "datos_bin =stats.binom.rvs(n=n, p=p, size=size) \n",
    "binwidth = 4\n",
    "fig, ax = plt.subplots(1, 1, figsize=(6, 4), dpi=80)\n",
    "ax.hist(datos_bin, color = 'blue', edgecolor = 'black', bins = int(50/binwidth))\n",
    "## probabilidad teórica\n",
    "ax2 = ax.twinx()\n",
    "vec = list(range(n+1))\n",
    "##\n",
    "pvec = []\n",
    "for i in vec:\n",
    "    pvec.append(stats.binom.pmf(k=i, n=n, p=p))\n",
    "ax2.plot(vec,pvec)\n",
    "plt.draw()\n"
   ]
  },
  {
   "cell_type": "code",
   "execution_count": 3,
   "metadata": {},
   "outputs": [
    {
     "data": {
      "image/png": "[encoded data removed]",
      "text/plain": [
       "<Figure size 480x320 with 2 Axes>"
      ]
     },
     "metadata": {
      "needs_background": "light"
     },
     "output_type": "display_data"
    }
   ],
   "source": [
    "## gráfica de la distribución empírica acumulada\n",
    "def ecdf(data):\n",
    "    \"\"\" Calcula la distribución empírica acumulada\"\"\"\n",
    "    x = np.sort(data)\n",
    "    n = x.size\n",
    "    y = np.arange(1, n+1) / n\n",
    "    return(x,y)\n",
    "\n",
    "fig, ax = plt.subplots(1, 1,figsize=(6, 4), dpi=80)\n",
    "\n",
    "x,cum_bin = ecdf(datos_bin)\n",
    "ax.bar(x,cum_bin)\n",
    "## probabilidad teórica\n",
    "ax2 = ax.twinx()\n",
    "vec = list(range(51))\n",
    "##\n",
    "pvec = []\n",
    "for i in vec:\n",
    "    pvec.append(stats.binom.cdf(k=i, n=n, p=p))\n",
    "ax2.plot(vec,pvec)\n",
    "plt.draw()\n"
   ]
  },
  {
   "cell_type": "code",
   "execution_count": 4,
   "metadata": {},
   "outputs": [
    {
     "name": "stdout",
     "output_type": "stream",
     "text": [
      "esperanza empírica: 10.29  teórica:  10.0\n",
      "varianza empírica: 8.645899999999996  teórica:  8.0\n",
      "asimetría empírica: 0.02138584660525642 teórica:  0.21213203435596423\n",
      "curtosis empírico:  -0.1343813728734955 teórico:  0.004999999999999977\n"
     ]
    }
   ],
   "source": [
    "## Cálculo de esperanza y varianza empírica y teórica\n",
    "promedio = sum(datos_bin)/size\n",
    "var_emp = sum((datos_bin - promedio)*(datos_bin-promedio))/size\n",
    "asim = stats.skew(datos_bin)\n",
    "curtos = stats.kurtosis(datos_bin)\n",
    "print('esperanza empírica:',promedio,' teórica: ',n*p)\n",
    "print('varianza empírica:',var_emp,' teórica: ', n*p*(1-p))\n",
    "print('asimetría empírica:', asim, 'teórica: ',(1-2*p)/(math.sqrt(n*p*(1-p))))\n",
    "print('curtosis empírico: ', curtos, 'teórico: ',(1-6*p*(1-p))/(n*p*(1-p)))"
   ]
  },
  {
   "cell_type": "markdown",
   "metadata": {},
   "source": [
    "#### Ejercicio 1: \n",
    "1) ¿Cuántas simulaciones es necesario hacer para acercarse a los valores teóricos?\n",
    "\n",
    "| Esperanza teórica | Varianza teórica | Asimetria teórica | Curtosis teórica |\n",
    "| --- | --- | --- | --- |\n",
    "| 10.0 | 8.0 | 0.2121 | 0.0049 |\n",
    "\n",
    "\n",
    "\n",
    "| Size | Esperanza empírica | Varianza empírica | Asimetria empírica | Curtosis empírica |\n",
    "| --- | --- | --- | --- | ---| \n",
    "| 100 | 9.81 | 8.6339 | 0.3877 | -0.607 |\n",
    "| 1000 | 10.011 | 7.7848 | 0.2433 | -0.082 |\n",
    "| 5000 | 9.9806 | 7.9198 | 0.1817 | -0.105 |\n",
    "| 10000 | 9.982 | 8.0736 | 0.1927 | 0.0042 |\n",
    "\n",
    "2) Cambie los valores de los parámetros y analice si hay cambios en su respuesta en (1)"
   ]
  },
  {
   "cell_type": "code",
   "execution_count": 5,
   "metadata": {},
   "outputs": [
    {
     "name": "stdout",
     "output_type": "stream",
     "text": [
      "Size: 98239 ; n: 608 ; p: 0.8853447869143808\n",
      "esperanza empírica: 538.2873298791723  ; teórica:  538.2896304439436 #### diff%:  0.00042738601553082844\n",
      "varianza empírica: 61.508958147983556  ; teórica:  61.717712280329565 ### diff%:  0.33938817796877174\n",
      "asimetría empírica: -0.102707826186813  ; teórica:  -0.09810125741296767 ### diff%:  -4.48511953263089\n",
      "curtosis empírico:  0.04161124441020325  ; teórico:  0.006334383021794819    ### diff%:  -84.77723242460492\n",
      "\n",
      "Size: 47975 ; n: 273 ; p: 0.7349041716715945\n",
      "esperanza empírica: 200.5943929129755  ; teórica:  200.6288388663453 #### diff%:  0.017171942280924668\n",
      "varianza empírica: 53.474023797677745  ; teórica:  53.185868225840004 ### diff%:  -0.538870186631172\n",
      "asimetría empírica: -0.04762749916518006  ; teórica:  -0.06442027857918241 ### diff%:  35.25857898976011\n",
      "curtosis empírico:  -0.0546761166411498  ; teórico:  -0.003176035033787858    ### diff%:  -94.19118395947392\n",
      "\n",
      "Size: 24772 ; n: 969 ; p: 0.7639671147903425\n",
      "esperanza empírica: 740.1620781527531  ; teórica:  740.2841342318419 #### diff%:  0.01649045292802498\n",
      "varianza empírica: 173.43614791767908  ; teórica:  174.731400077675 ### diff%:  0.7468178782491748\n",
      "asimetría empírica: -0.03034194062695117  ; teórica:  -0.03993873846345918 ### diff%:  31.628820168422834\n",
      "curtosis empírico:  0.03314687977945763  ; teórico:  -0.000468880658079501    ### diff%:  -101.4145544352868\n",
      "\n",
      "Size: 26454 ; n: 782 ; p: 0.13704366137230373\n",
      "esperanza empírica: 107.18197626067891  ; teórica:  107.16814319314152 #### diff%:  -0.012906150847371123\n",
      "varianza empírica: 92.1518850185641  ; teórica:  92.48142846748208 ### diff%:  0.35760901565018344\n",
      "asimetría empírica: 0.12597132605435862  ; teórica:  0.07548438418005443 ### diff%:  -40.078122105754666\n",
      "curtosis empírico:  0.0283762877481335  ; teórico:  0.0031403474980088043    ### diff%:  -88.93319828907019\n",
      "\n",
      "Size: 56734 ; n: 618 ; p: 0.5993909820976144\n",
      "esperanza empírica: 370.43198082278707  ; teórica:  370.4236269363257 #### diff%:  -0.0022551742003429354\n",
      "varianza empírica: 148.57350114560597  ; teórica:  148.39504539480112 ### diff%:  -0.12011277208172544\n",
      "asimetría empírica: -0.017680154325102608  ; teórica:  -0.016318013088052818 ### diff%:  -7.704351511885832\n",
      "curtosis empírico:  -0.017577038863525463  ; teórico:  -0.002969968403550693    ### diff%:  -83.1031357066989\n",
      "\n",
      "Size: 23043 ; n: 104 ; p: 0.4445672010534929\n",
      "esperanza empírica: 46.22527448682897  ; teórica:  46.23498890956326 #### diff%:  0.021015392211594985\n",
      "varianza empírica: 25.831428205478588  ; teórica:  25.680429299299437 ### diff%:  -0.584555003997508\n",
      "asimetría empírica: 0.007315994817556016  ; teórica:  0.021877397798905 ### diff%:  199.03517354066923\n",
      "curtosis empírico:  -0.0025948510206714737  ; teórico:  -0.018752148696317698    ### diff%:  622.6676424554491\n",
      "\n",
      "Size: 52626 ; n: 443 ; p: 0.19171518787090613\n",
      "esperanza empírica: 84.93366396838064  ; teórica:  84.92982822681142 #### diff%:  -0.004516161660760076\n",
      "varianza empírica: 68.5691373259153  ; teórica:  68.64749025246448 ### diff%:  0.11426850271828926\n",
      "asimetría empírica: 0.0790836448777304  ; teórica:  0.07441659473474689 ### diff%:  -5.901410019984709\n",
      "curtosis empírico:  -0.01626688206255844  ; teórico:  0.0010231568856853088    ### diff%:  -106.28981560049736\n",
      "\n",
      "Size: 45849 ; n: 671 ; p: 0.04307167123776223\n",
      "esperanza empírica: 28.921219655826736  ; teórica:  28.90109140053846 #### diff%:  -0.06959684110078967\n",
      "varianza empírica: 27.945679194679318  ; teórica:  27.65627309332195 ### diff%:  -1.0356023174146713\n",
      "asimetría empírica: 0.15955589077060356  ; teórica:  0.17377258136707677 ### diff%:  8.91016340907953\n",
      "curtosis empírico:  -0.013194381421973045  ; teórico:  0.027216284103531708    ### diff%:  -306.27177002938174\n",
      "\n",
      "Size: 82109 ; n: 70 ; p: 0.25846825464802425\n",
      "esperanza empírica: 18.094812992485597  ; teórica:  18.092777825361697 #### diff%:  -0.011247240437057826\n",
      "varianza empírica: 13.514193095196509  ; teórica:  13.416369119105983 ### diff%:  -0.7238610207907783\n",
      "asimetría empírica: 0.13906496470616675  ; teórica:  0.13188236183325366 ### diff%:  -5.164926254495043\n",
      "curtosis empírico:  0.010606967406918688  ; teórico:  -0.011178471208711327    ### diff%:  -205.38800375138192\n",
      "\n",
      "Size: 2379 ; n: 735 ; p: 0.7223579567214339\n",
      "esperanza empírica: 530.687263556116  ; teórica:  530.9330981902539 #### diff%:  0.04632382403349311\n",
      "varianza empírica: 144.17373858164973  ; teórica:  147.40935022576167 ### diff%:  2.24424480903609\n",
      "asimetría empírica: -0.03592732593541171  ; teórica:  -0.03662858606169068 ### diff%:  1.951885112573251\n",
      "curtosis empírico:  -0.027194358765515236  ; teórico:  -0.0013794351184954695    ### diff%:  -94.92749532949198\n",
      "\n"
     ]
    }
   ],
   "source": [
    "def percenDiff(a,b):\n",
    "  return ((b/a) * 100) - 100\n",
    "\n",
    "def getData(datos_bin):\n",
    "  promedio = sum(datos_bin)/size\n",
    "  var_emp = sum((datos_bin - promedio)*(datos_bin-promedio))/size\n",
    "  asim = stats.skew(datos_bin)\n",
    "  curtos = stats.kurtosis(datos_bin)\n",
    "  print('esperanza empírica:',promedio,' ; teórica: ',n*p, '#### diff%: ', percenDiff(promedio, n*p))\n",
    "  print('varianza empírica:',var_emp,' ; teórica: ', n*p*(1-p), '### diff%: ', percenDiff(var_emp, n*p*(1-p)))\n",
    "  print('asimetría empírica:', asim, ' ; teórica: ',(1-2*p)/(math.sqrt(n*p*(1-p))), '### diff%: ', percenDiff(asim, (1-2*p)/(math.sqrt(n*p*(1-p)))))\n",
    "  print('curtosis empírico: ', curtos, ' ; teórico: ',(1-6*p*(1-p))/(n*p*(1-p)), '   ### diff%: ', percenDiff(curtos, (1-6*p*(1-p))/(n*p*(1-p))))\n",
    "  print(\"\")\n",
    "\n",
    "for i in range(10):\n",
    "  size = random.randint(1000, 100000)\n",
    "  n = random.randint(1, 1000)\n",
    "  p = random.uniform(0, 1)\n",
    "  datos_bin =stats.binom.rvs(n=n, p=p, size=size)\n",
    "  print(\"Size:\", size, \"; n:\", n, \"; p:\", p)\n",
    "  getData(datos_bin)\n"
   ]
  },
  {
   "cell_type": "markdown",
   "metadata": {},
   "source": [
    "#### Ejercicio 2: \n",
    "Realice un desarrollo similar al caso de la Distribución Binomial para el caso de una variable aleatoria con Distribución de Probabilidad Poisson"
   ]
  },
  {
   "cell_type": "code",
   "execution_count": 41,
   "metadata": {},
   "outputs": [
    {
     "data": {
      "image/png": "[encoded data removed]",
      "text/plain": [
       "<Figure size 480x320 with 2 Axes>"
      ]
     },
     "metadata": {
      "needs_background": "light"
     },
     "output_type": "display_data"
    }
   ],
   "source": [
    "## simulación de size valores v.a. poisson\n",
    "size=100\n",
    "mu=0.4\n",
    "datos_bin =stats.poisson.rvs(mu, size=size) \n",
    "binwidth = 100\n",
    "fig, ax = plt.subplots(1, 1, figsize=(6, 4), dpi=80)\n",
    "ax.hist(datos_bin, color = 'blue', edgecolor = 'black')\n",
    "## probabilidad teórica\n",
    "ax2 = ax.twinx()\n",
    "\n",
    "vec = list(range(8))\n",
    "##\n",
    "\n",
    "pvec = []\n",
    "for i in vec:\n",
    "    pvec.append(stats.poisson.pmf(k=i, mu=0.6))\n",
    "ax2.plot(vec,pvec)\n",
    "plt.draw()"
   ]
  },
  {
   "cell_type": "markdown",
   "metadata": {},
   "source": [
    "#### Distribución Normal o Gaussiana\n",
    "Sea $X$ v.a. continua, es normal de media $\\mu$ y varianza $\\sigma^2$ y se denota $\\cal{N}(\\mu,\\sigma^2)$ si su densidad de probabilidad cumple:\n",
    "\n",
    "\n",
    "$\\begin{equation}\n",
    "\\begin{array}{lll} \n",
    "f_X(x) & = & \\frac{1}{\\sqrt{2\\pi}\\sigma} exp(\\frac{-(x-\\mu)^2}{2\\sigma^2})\\qquad, -\\infty < x <\\infty\\\\\n",
    "E[X] &= &\\mu\\\\\n",
    "Var(X)& =& \\sigma^2\\\\\n",
    "\\end{array}\n",
    "\\end{equation}$\n",
    "\n",
    "Esta es la distribución de probabilidad mas utilizada. Muchas variables se distribuyen aproximadamente normales (altura, peso, satisfacción en el trabajo, etc.). \n",
    "\n",
    "Permite modelar los errores o ruidos.\n",
    "\n",
    "¿Cómo se verifica que una v.a. sigue una distribución normal?\n",
    "\n",
    "Test de normalidad de Shapiro-Wilk, Q-Q plot\n"
   ]
  },
  {
   "cell_type": "markdown",
   "metadata": {},
   "source": [
    "### Simulación Variable Aleatoria con Distribución Normal\n",
    "En esta sección utilizaremos la función generadora de valores aleatorios para la distribución normal, y se compara la distribución empírica con la distribución teórica"
   ]
  },
  {
   "cell_type": "code",
   "execution_count": 42,
   "metadata": {},
   "outputs": [
    {
     "data": {
      "image/png": "[encoded data removed]",
      "text/plain": [
       "<Figure size 480x320 with 2 Axes>"
      ]
     },
     "metadata": {
      "needs_background": "light"
     },
     "output_type": "display_data"
    }
   ],
   "source": [
    "## simulación de size valores v.a. normal\n",
    "size=100\n",
    "mu=50\n",
    "sigma=10\n",
    "datos_norm =stats.norm.rvs(loc=mu, scale= sigma, size=size) \n",
    "binwidth = 4\n",
    "fig, ax = plt.subplots(1, 1,figsize=(6, 4), dpi=80)\n",
    "ax.hist(datos_norm, color = 'blue', edgecolor = 'black', bins = int(2*mu/binwidth))\n",
    "## probabilidad teórica\n",
    "ax2 = ax.twinx()\n",
    "vec = list(range(2*mu+1))\n",
    "##\n",
    "pvec = []\n",
    "for i in vec:\n",
    "    pvec.append(stats.norm.pdf(x=i, loc=mu, scale= sigma))\n",
    "ax2.plot(vec,pvec)\n",
    "plt.draw()\n"
   ]
  },
  {
   "cell_type": "code",
   "execution_count": 43,
   "metadata": {},
   "outputs": [
    {
     "data": {
      "image/png": "[encoded data removed]",
      "text/plain": [
       "<Figure size 480x320 with 2 Axes>"
      ]
     },
     "metadata": {
      "needs_background": "light"
     },
     "output_type": "display_data"
    }
   ],
   "source": [
    "## gráfica de la distribución empírica acumulada\n",
    "def ecdf(data):\n",
    "    \"\"\" Calcula la distribución empírica acumulada\"\"\"\n",
    "    x = np.sort(data)\n",
    "    n = x.size\n",
    "    y = np.arange(1, n+1) / n\n",
    "    return(x,y)\n",
    "\n",
    "fig, ax = plt.subplots(1, 1,figsize=(6, 4), dpi=80)\n",
    "\n",
    "x,cum_norm = ecdf(datos_norm)\n",
    "ax.bar(x,cum_norm)\n",
    "## probabilidad teórica\n",
    "ax2 = ax.twinx()\n",
    "vec = list(range(2*mu+1))\n",
    "##\n",
    "pvec = []\n",
    "for i in vec:\n",
    "    pvec.append(stats.norm.cdf(x=i, loc=mu, scale=sigma))\n",
    "ax2.plot(vec,pvec)\n",
    "plt.draw()\n"
   ]
  },
  {
   "cell_type": "code",
   "execution_count": 44,
   "metadata": {},
   "outputs": [
    {
     "name": "stdout",
     "output_type": "stream",
     "text": [
      "esperanza empírica: 51.10472446807954  teórica:  50\n",
      "varianza empírica: 94.64868757908957  teórica:  100\n",
      "asimetría empírica: -0.12631722937313597 teórica:  0\n",
      "curtosis empírico:  -0.1455781257660158 teórico:  0\n"
     ]
    }
   ],
   "source": [
    "## Cálculo de esperanza y varianza empírica y teórica\n",
    "promedio = sum(datos_norm)/size\n",
    "var_emp = sum((datos_norm - promedio)*(datos_norm-promedio))/size\n",
    "asim = stats.skew(datos_norm)\n",
    "curtos = stats.kurtosis(datos_norm)\n",
    "print('esperanza empírica:',promedio,' teórica: ',mu)\n",
    "print('varianza empírica:',var_emp,' teórica: ', sigma*sigma)\n",
    "print('asimetría empírica:', asim, 'teórica: ',0)\n",
    "print('curtosis empírico: ', curtos, 'teórico: ',0)\n"
   ]
  },
  {
   "cell_type": "markdown",
   "metadata": {},
   "source": [
    "#### Ejercicio 3: \n",
    "1) ¿Cuántas simulaciones es necesario hacer para acercarse a los valores teóricos?\n",
    "\n",
    "2) Cambie los valores de los parámetros y analice si hay cambios en su respuesta en (1)"
   ]
  },
  {
   "cell_type": "markdown",
   "metadata": {},
   "source": [
    "#### Ejercicio 4: \n",
    "Realice un desarrollo similar para el caso de una variable aleatoria continua distribuída chi-cuadrado de $k$ grados de libertad"
   ]
  },
  {
   "cell_type": "markdown",
   "metadata": {},
   "source": [
    "#### Ejercicio 5 (2 puntos):\n",
    "Utilice datos de sismicidad del Centro de Sismológico Nacional (http://evtdb.csn.uchile.cl/events), escoja dos  regiones geográficas en Chile (y la región del océano Pacífico contigua), con dimensiones de al menos 5 grados, tanto en longitud como latitud y grafique los histogramas de magnitud y profundidad de los eventos sísmicos significativos disponibles. Calcule parámetros empíricos para cada serie de datos.  Compare y concluya."
   ]
  },
  {
   "cell_type": "markdown",
   "metadata": {},
   "source": [
    "### Referencias\n",
    "\n",
    "https://github.com/WillKoehrsen/Data-Analysis/blob/master/univariate_dist/Histogram%20and%20Density%20Plot.ipynb\n"
   ]
  }
 ],
 "metadata": {
  "kernelspec": {
   "display_name": "Python 3 (ipykernel)",
   "language": "python",
   "name": "python3"
  },
  "language_info": {
   "codemirror_mode": {
    "name": "ipython",
    "version": 3
   },
   "file_extension": ".py",
   "mimetype": "text/x-python",
   "name": "python",
   "nbconvert_exporter": "python",
   "pygments_lexer": "ipython3",
   "version": "3.8.10"
  }
 },
 "nbformat": 4,
 "nbformat_minor": 2
}
