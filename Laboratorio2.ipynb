{
 "cells": [
  {
   "cell_type": "markdown",
   "metadata": {},
   "source": [
    "# Laboratorio 2\n",
    "### Entrega: martes 31 de agosto 2021, 23:59 horas\n"
   ]
  },
  {
   "cell_type": "markdown",
   "metadata": {},
   "source": [
    "## Algunas Variables Aleatorias Especiales\n",
    "En este laboratorio revisaremos algunos tipos de variables aleatorias especiales, definidas por que tienen  distribuciones de probabilidad conocidas. Trabajaremos tanto con v.a. discretas como continuas, y calcularemos y graficaremos las probabilidades teóricas (probabilidaes puntutales, funciones de  densidad y de distribución de probabilidad) y luego las vamos a comparar con datos obtenidos por simulación."
   ]
  },
  {
   "cell_type": "markdown",
   "metadata": {},
   "source": [
    "### Estadísticos asociados\n",
    "1. Posición:  tendencia central y no central\n",
    "   percentiles, media, moda\n",
    "\n",
    "2. Dispersión: \n",
    "    Varianza, desviación estándar\n",
    "\n",
    "3. Forma: \n",
    "    asimetría, curtosis. \n",
    "    \n",
    "   $$\\text{ Asimetría (skewness) }= \\frac{E[(X-\\mu)^3]}{\\sigma^3}$$\n",
    "   $$\\text{ Curtosis }= \\frac{E[(X-\\mu)^4]}{\\sigma^4} - 3$$"
   ]
  },
  {
   "cell_type": "code",
   "execution_count": 2,
   "metadata": {},
   "outputs": [],
   "source": [
    "# Pandas and numpy for data manipulation\n",
    "import pandas as pd\n",
    "import numpy as np\n",
    "import scipy.stats as stats\n",
    "import math\n",
    "\n",
    "# Matplotlib and seaborn for plotting\n",
    "import matplotlib.pyplot as plt\n",
    "import matplotlib\n",
    "%matplotlib inline\n",
    "\n",
    "matplotlib.rcParams['font.size'] = 18\n",
    "matplotlib.rcParams['figure.dpi'] = 200\n",
    "\n",
    "from IPython.core.pylabtools import figsize\n",
    "import random\n"
   ]
  },
  {
   "cell_type": "markdown",
   "metadata": {},
   "source": [
    "#### Distribución Bernoulli\n",
    "Suponga que se realiza un ensayo cuya salida es \"éxito\" o \"falla\". La v.a. entonces tiene sólo dos valores posibles: 1 si \"éxito\" 0 si no. Si $p$ es la probabilidad de éxito, entonces:\n",
    "\n",
    "$\\begin{equation}\n",
    "\\begin{array}{lll} \n",
    "P(X=1) & = &p \\qquad y \\qquad P(X=0) = 1-p \\\\\n",
    "P(X = i) & = & p^i (1-p)^{1-i} \\,, i=0,1\\\\\n",
    "E[X] & = & 1*p + 0*p = p\\\\\n",
    "E[X^2] & = & 1*p + 0*p = p\\\\\n",
    "Var(X) & = & E[X^2] - (E[X])^2 = p - p^2 = p(1-p)\\\\\n",
    "\\end{array}\n",
    "\\end{equation}$\n"
   ]
  },
  {
   "cell_type": "markdown",
   "metadata": {},
   "source": [
    "#### Distribución Binomial\n",
    "Suponga que se realizan $N$  ensayos independientes idénticos  Bernoulli  de parámetro $p$. La v.a. X que representa el número $k$ de ensayos existosos entre los $N$ ensayos realizados, se denomina Binomial y cumple:\n",
    "\n",
    "$\\begin{equation}\n",
    "\\begin{array}{lll} \n",
    "P(X=k) & = & {N \\choose k} p^k (1-p)^{N-k}, \\qquad k=0,1,...N \\\\\n",
    "E[X] & = & Np\\\\\n",
    "Var(X) & = & Np(1-p)\\\\\n",
    "Simetria(X) & = & \\frac{1-2p}{\\sqrt{np(1-p)}}\\\\\n",
    "Curtosis(X) & = & \\frac{1-6p(1-p)}{np(1-p)}\\\\\n",
    "\\end{array}\n",
    "\\end{equation}$"
   ]
  },
  {
   "cell_type": "markdown",
   "metadata": {},
   "source": [
    "### Simulación Variable Aleatoria con Distribución Binomial\n",
    "En esta sección utilizaremos la función generadora de valores aleatorios para la distribución binomial, y se compara la distribución empírica con la distribución teórica"
   ]
  },
  {
   "cell_type": "code",
   "execution_count": 3,
   "metadata": {},
   "outputs": [
    {
     "data": {
      "image/png": "[encoded data removed]",
      "text/plain": [
       "<Figure size 480x320 with 2 Axes>"
      ]
     },
     "metadata": {
      "needs_background": "light"
     },
     "output_type": "display_data"
    }
   ],
   "source": [
    "## simulación de size valores v.a. binomial\n",
    "size=100\n",
    "n=50\n",
    "p=0.2\n",
    "datos_bin =stats.binom.rvs(n=n, p=p, size=size) \n",
    "binwidth = 4\n",
    "fig, ax = plt.subplots(1, 1, figsize=(6, 4), dpi=80)\n",
    "ax.hist(datos_bin, color = 'blue', edgecolor = 'black', bins = int(50/binwidth))\n",
    "## probabilidad teórica\n",
    "ax2 = ax.twinx()\n",
    "vec = list(range(n+1))\n",
    "##\n",
    "pvec = []\n",
    "for i in vec:\n",
    "    pvec.append(stats.binom.pmf(k=i, n=n, p=p))\n",
    "ax2.plot(vec,pvec)\n",
    "plt.draw()\n"
   ]
  },
  {
   "cell_type": "code",
   "execution_count": 4,
   "metadata": {},
   "outputs": [
    {
     "data": {
      "image/png": "[encoded data removed]",
      "text/plain": [
       "<Figure size 480x320 with 2 Axes>"
      ]
     },
     "metadata": {
      "needs_background": "light"
     },
     "output_type": "display_data"
    }
   ],
   "source": [
    "## gráfica de la distribución empírica acumulada\n",
    "def ecdf(data):\n",
    "    \"\"\" Calcula la distribución empírica acumulada\"\"\"\n",
    "    x = np.sort(data)\n",
    "    n = x.size\n",
    "    y = np.arange(1, n+1) / n\n",
    "    return(x,y)\n",
    "\n",
    "fig, ax = plt.subplots(1, 1,figsize=(6, 4), dpi=80)\n",
    "\n",
    "x,cum_bin = ecdf(datos_bin)\n",
    "ax.bar(x,cum_bin)\n",
    "## probabilidad teórica\n",
    "ax2 = ax.twinx()\n",
    "vec = list(range(51))\n",
    "##\n",
    "pvec = []\n",
    "for i in vec:\n",
    "    pvec.append(stats.binom.cdf(k=i, n=n, p=p))\n",
    "ax2.plot(vec,pvec)\n",
    "plt.draw()\n"
   ]
  },
  {
   "cell_type": "code",
   "execution_count": 5,
   "metadata": {},
   "outputs": [
    {
     "name": "stdout",
     "output_type": "stream",
     "text": [
      "esperanza empírica: 9.95  teórica:  10.0\n",
      "varianza empírica: 6.367499999999999  teórica:  8.0\n",
      "asimetría empírica: 0.004060944793889044 teórica:  0.21213203435596423\n",
      "curtosis empírico:  -0.45351120952014856 teórico:  0.004999999999999977\n"
     ]
    }
   ],
   "source": [
    "## Cálculo de esperanza y varianza empírica y teórica\n",
    "promedio = sum(datos_bin)/size\n",
    "var_emp = sum((datos_bin - promedio)*(datos_bin-promedio))/size\n",
    "asim = stats.skew(datos_bin)\n",
    "curtos = stats.kurtosis(datos_bin)\n",
    "print('esperanza empírica:',promedio,' teórica: ',n*p)\n",
    "print('varianza empírica:',var_emp,' teórica: ', n*p*(1-p))\n",
    "print('asimetría empírica:', asim, 'teórica: ',(1-2*p)/(math.sqrt(n*p*(1-p))))\n",
    "print('curtosis empírico: ', curtos, 'teórico: ',(1-6*p*(1-p))/(n*p*(1-p)))"
   ]
  },
  {
   "cell_type": "markdown",
   "metadata": {},
   "source": [
    "#### Ejercicio 1: \n",
    "1) ¿Cuántas simulaciones es necesario hacer para acercarse a los valores teóricos?\n",
    "\n",
    "| Esperanza teórica | Varianza teórica | Asimetria teórica | Curtosis teórica |\n",
    "| --- | --- | --- | --- |\n",
    "| 10.0 | 8.0 | 0.2121 | 0.0049 |\n",
    "\n",
    "\n",
    "\n",
    "| Size | Esperanza empírica | Varianza empírica | Asimetria empírica | Curtosis empírica |\n",
    "| --- | --- | --- | --- | ---| \n",
    "| 100 | 9.81 | 8.6339 | 0.3877 | -0.607 |\n",
    "| 1000 | 10.011 | 7.7848 | 0.2433 | -0.082 |\n",
    "| 5000 | 9.9806 | 7.9198 | 0.1817 | -0.105 |\n",
    "| 10000 | 9.982 | 8.0736 | 0.1927 | 0.0042 |\n",
    "\n",
    "2) Cambie los valores de los parámetros y analice si hay cambios en su respuesta en (1)"
   ]
  },
  {
   "cell_type": "code",
   "execution_count": 6,
   "metadata": {},
   "outputs": [
    {
     "name": "stdout",
     "output_type": "stream",
     "text": [
      "Size: 70561 ; n: 46 ; p: 0.36766548435855273\n",
      "esperanza empírica: 16.901461147092586  ; teórica:  16.912612280493427 #### diff%:  0.06597733357958191\n",
      "varianza empírica: 10.757271854928648  ; teórica:  10.694428494617403 ### diff%:  -0.584194219117478\n",
      "asimetría empírica: 0.10004061588498797  ; teórica:  0.080932757424388 ### diff%:  -19.100100785632293\n",
      "curtosis empírico:  -0.026115137407631384  ; teórico:  -0.03692814964525039    ### diff%:  41.405151613175946\n",
      "\n",
      "Size: 91423 ; n: 767 ; p: 0.6897321040188534\n",
      "esperanza empírica: 529.0177198298021  ; teórica:  529.0245237824606 #### diff%:  0.001286148346906657\n",
      "varianza empírica: 164.65564785530697  ; teórica:  164.13932591641208 ### diff%:  -0.3135768165988537\n",
      "asimetría empírica: -0.041766696763058185  ; teórica:  -0.029618597892305892 ### diff%:  -29.085610814923342\n",
      "curtosis empírico:  0.004394087271334168  ; teórico:  -0.0017303005884897217    ### diff%:  -139.37792951400243\n",
      "\n",
      "Size: 96406 ; n: 882 ; p: 0.7449369274593842\n",
      "esperanza empírica: 657.0878057382321  ; teórica:  657.0343700191769 #### diff%:  -0.008132203731150867\n",
      "varianza empírica: 167.61265610466026  ; teórica:  167.5852051818791 ### diff%:  -0.01637759547466544\n",
      "asimetría empírica: -0.036203347957791926  ; teórica:  -0.0378413327500254 ### diff%:  4.524401428683149\n",
      "curtosis empírico:  0.02321555874640957  ; teórico:  -0.0008356072318469806    ### diff%:  -103.5993414630876\n",
      "\n",
      "Size: 73625 ; n: 564 ; p: 0.3195626006207951\n",
      "esperanza empírica: 180.2678166383701  ; teórica:  180.23330675012843 #### diff%:  -0.01914367682773843\n",
      "varianza empírica: 122.39178528384811  ; teórica:  122.63748252657189 ### diff%:  0.20074651428114976\n",
      "asimetría empírica: 0.028034410930532404  ; teórica:  0.032587042069645286 ### diff%:  16.239439274804198\n",
      "curtosis empírico:  -0.016960126873462045  ; teórico:  -0.0024841839799313093    ### diff%:  -85.35279836957838\n",
      "\n",
      "Size: 21809 ; n: 384 ; p: 0.849159485703703\n",
      "esperanza empírica: 325.9853271585125  ; teórica:  326.07724251022194 #### diff%:  0.028196162235460065\n",
      "varianza empírica: 49.61168805038122  ; teórica:  49.185658960560225 ### diff%:  -0.8587272607784513\n",
      "asimetría empírica: -0.09925745488673758  ; teórica:  -0.09957139546734503 ### diff%:  0.31628917038592874\n",
      "curtosis empírico:  -0.011199128046173623  ; teórico:  0.004706129461981086    ### diff%:  -142.02228461517606\n",
      "\n",
      "Size: 80292 ; n: 136 ; p: 0.7766673933236049\n",
      "esperanza empírica: 105.61789468440193  ; teórica:  105.62676549201026 #### diff%:  0.008398962727710568\n",
      "varianza empírica: 23.505442745440526  ; teórica:  23.58990087212695 ### diff%:  0.35931306464247825\n",
      "asimetría empírica: -0.10802086370410732  ; teórica:  -0.11392654213929893 ### diff%:  5.467164613095974\n",
      "curtosis empírico:  -0.009519667861784153  ; teórico:  -0.001726625349123723    ### diff%:  -81.86254631786993\n",
      "\n",
      "Size: 75544 ; n: 660 ; p: 0.4429113066559677\n",
      "esperanza empírica: 292.2960923435349  ; teórica:  292.32146239293866 #### diff%:  0.008679571868498215\n",
      "varianza empírica: 162.32649855003152  ; teórica:  162.8489815208989 ### diff%:  0.3218716448234886\n",
      "asimetría empírica: 0.012851799647977032  ; teórica:  0.00894720885452714 ### diff%:  -30.3816656063768\n",
      "curtosis empírico:  0.012963314369993206  ; teórico:  -0.002950250484016501    ### diff%:  -122.75845821378509\n",
      "\n",
      "Size: 36579 ; n: 223 ; p: 0.11989976579510486\n",
      "esperanza empírica: 26.723365865660625  ; teórica:  26.737647772308385 #### diff%:  0.053443517255843176\n",
      "varianza empírica: 23.39740668674807  ; teórica:  23.531810066496604 ### diff%:  0.5744370799207275\n",
      "asimetría empírica: 0.17498325608929155  ; teórica:  0.15671135497451447 ### diff%:  -10.442085444708596\n",
      "curtosis empírico:  -0.010723430725434469  ; teórico:  0.015589838912477429    ### diff%:  -245.3810754379242\n",
      "\n",
      "Size: 41547 ; n: 318 ; p: 0.05270941695297682\n",
      "esperanza empírica: 16.75071605651431  ; teórica:  16.761594591046627 #### diff%:  0.06494369849990278\n",
      "varianza empírica: 15.85335081227126  ; teórica:  15.87810071295039 ### diff%:  0.15611778842345814\n",
      "asimetría empírica: 0.23074624274020775  ; teórica:  0.2245021344690129 ### diff%:  -2.706049813441581\n",
      "curtosis empírico:  0.04268957261643447  ; teórico:  0.04411190020504211    ### diff%:  3.3317915861731535\n",
      "\n",
      "Size: 79497 ; n: 421 ; p: 0.41741517309763787\n",
      "esperanza empírica: 175.72756204636653  ; teórica:  175.73178787410555 #### diff%:  0.0024047609207258347\n",
      "varianza empírica: 101.7635576034296  ; teórica:  102.37867321987841 ### diff%:  0.6044556921308555\n",
      "asimetría empírica: 0.023770539560256  ; teórica:  0.016323959552523866 ### diff%:  -31.326928818152325\n",
      "curtosis empírico:  0.0276455841998402  ; teórico:  -0.004484122168755592    ### diff%:  -116.22003042634748\n",
      "\n"
     ]
    }
   ],
   "source": [
    "def percenDiff(a,b):\n",
    "  return ((b/a) * 100) - 100\n",
    "\n",
    "def getData(datos_bin):\n",
    "  promedio = sum(datos_bin)/size\n",
    "  var_emp = sum((datos_bin - promedio)*(datos_bin-promedio))/size\n",
    "  asim = stats.skew(datos_bin)\n",
    "  curtos = stats.kurtosis(datos_bin)\n",
    "  print('esperanza empírica:',promedio,' ; teórica: ',n*p, '#### diff%: ', percenDiff(promedio, n*p))\n",
    "  print('varianza empírica:',var_emp,' ; teórica: ', n*p*(1-p), '### diff%: ', percenDiff(var_emp, n*p*(1-p)))\n",
    "  print('asimetría empírica:', asim, ' ; teórica: ',(1-2*p)/(math.sqrt(n*p*(1-p))), '### diff%: ', percenDiff(asim, (1-2*p)/(math.sqrt(n*p*(1-p)))))\n",
    "  print('curtosis empírico: ', curtos, ' ; teórico: ',(1-6*p*(1-p))/(n*p*(1-p)), '   ### diff%: ', percenDiff(curtos, (1-6*p*(1-p))/(n*p*(1-p))))\n",
    "  print(\"\")\n",
    "\n",
    "for i in range(10):\n",
    "  size = random.randint(1000, 100000)\n",
    "  n = random.randint(1, 1000)\n",
    "  p = random.uniform(0, 1)\n",
    "  datos_bin =stats.binom.rvs(n=n, p=p, size=size)\n",
    "  print(\"Size:\", size, \"; n:\", n, \"; p:\", p)\n",
    "  getData(datos_bin)\n"
   ]
  },
  {
   "cell_type": "markdown",
   "metadata": {},
   "source": [
    "#### Ejercicio 2: \n",
    "Realice un desarrollo similar al caso de la Distribución Binomial para el caso de una variable aleatoria con Distribución de Probabilidad Poisson"
   ]
  },
  {
   "cell_type": "markdown",
   "metadata": {},
   "source": [
    "#### Distribución Normal o Gaussiana\n",
    "Sea $X$ v.a. continua, es normal de media $\\mu$ y varianza $\\sigma^2$ y se denota $\\cal{N}(\\mu,\\sigma^2)$ si su densidad de probabilidad cumple:\n",
    "\n",
    "\n",
    "$\\begin{equation}\n",
    "\\begin{array}{lll} \n",
    "f_X(x) & = & \\frac{1}{\\sqrt{2\\pi}\\sigma} exp(\\frac{-(x-\\mu)^2}{2\\sigma^2})\\qquad, -\\infty < x <\\infty\\\\\n",
    "E[X] &= &\\mu\\\\\n",
    "Var(X)& =& \\sigma^2\\\\\n",
    "\\end{array}\n",
    "\\end{equation}$\n",
    "\n",
    "Esta es la distribución de probabilidad mas utilizada. Muchas variables se distribuyen aproximadamente normales (altura, peso, satisfacción en el trabajo, etc.). \n",
    "\n",
    "Permite modelar los errores o ruidos.\n",
    "\n",
    "¿Cómo se verifica que una v.a. sigue una distribución normal?\n",
    "\n",
    "Test de normalidad de Shapiro-Wilk, Q-Q plot\n"
   ]
  },
  {
   "cell_type": "markdown",
   "metadata": {},
   "source": [
    "### Simulación Variable Aleatoria con Distribución Normal\n",
    "En esta sección utilizaremos la función generadora de valores aleatorios para la distribución normal, y se compara la distribución empírica con la distribución teórica"
   ]
  },
  {
   "cell_type": "code",
   "execution_count": 15,
   "metadata": {},
   "outputs": [
    {
     "data": {
      "image/png": "[encoded data removed]",
      "text/plain": [
       "<Figure size 480x320 with 2 Axes>"
      ]
     },
     "metadata": {
      "needs_background": "light"
     },
     "output_type": "display_data"
    }
   ],
   "source": [
    "## simulación de size valores v.a. normal\n",
    "size=100\n",
    "mu=50\n",
    "sigma=10\n",
    "datos_norm =stats.norm.rvs(loc=mu, scale= sigma, size=size) \n",
    "binwidth = 4\n",
    "fig, ax = plt.subplots(1, 1,figsize=(6, 4), dpi=80)\n",
    "ax.hist(datos_norm, color = 'blue', edgecolor = 'black', bins = int(2*mu/binwidth))\n",
    "## probabilidad teórica\n",
    "ax2 = ax.twinx()\n",
    "vec = list(range(2*mu+1))\n",
    "##\n",
    "pvec = []\n",
    "for i in vec:\n",
    "    pvec.append(stats.norm.pdf(x=i, loc=mu, scale= sigma))\n",
    "ax2.plot(vec,pvec)\n",
    "plt.draw()\n"
   ]
  },
  {
   "cell_type": "code",
   "execution_count": 16,
   "metadata": {},
   "outputs": [
    {
     "data": {
      "image/png": "[encoded data removed]",
      "text/plain": [
       "<Figure size 480x320 with 2 Axes>"
      ]
     },
     "metadata": {
      "needs_background": "light"
     },
     "output_type": "display_data"
    }
   ],
   "source": [
    "## gráfica de la distribución empírica acumulada\n",
    "def ecdf(data):\n",
    "    \"\"\" Calcula la distribución empírica acumulada\"\"\"\n",
    "    x = np.sort(data)\n",
    "    n = x.size\n",
    "    y = np.arange(1, n+1) / n\n",
    "    return(x,y)\n",
    "\n",
    "fig, ax = plt.subplots(1, 1,figsize=(6, 4), dpi=80)\n",
    "\n",
    "x,cum_norm = ecdf(datos_norm)\n",
    "ax.bar(x,cum_norm)\n",
    "## probabilidad teórica\n",
    "ax2 = ax.twinx()\n",
    "vec = list(range(2*mu+1))\n",
    "##\n",
    "pvec = []\n",
    "for i in vec:\n",
    "    pvec.append(stats.norm.cdf(x=i, loc=mu, scale=sigma))\n",
    "ax2.plot(vec,pvec)\n",
    "plt.draw()\n"
   ]
  },
  {
   "cell_type": "code",
   "execution_count": 17,
   "metadata": {},
   "outputs": [
    {
     "name": "stdout",
     "output_type": "stream",
     "text": [
      "esperanza empírica: 48.282490897599146  teórica:  50\n",
      "varianza empírica: 76.95342819520188  teórica:  100\n",
      "asimetría empírica: -0.10493069937047318 teórica:  0\n",
      "curtosis empírico:  -0.33654226611189175 teórico:  0\n"
     ]
    }
   ],
   "source": [
    "## Cálculo de esperanza y varianza empírica y teórica\n",
    "promedio = sum(datos_norm)/size\n",
    "var_emp = sum((datos_norm - promedio)*(datos_norm-promedio))/size\n",
    "asim = stats.skew(datos_norm)\n",
    "curtos = stats.kurtosis(datos_norm)\n",
    "print('esperanza empírica:',promedio,' teórica: ',mu)\n",
    "print('varianza empírica:',var_emp,' teórica: ', sigma*sigma)\n",
    "print('asimetría empírica:', asim, 'teórica: ',0)\n",
    "print('curtosis empírico: ', curtos, 'teórico: ',0)\n"
   ]
  },
  {
   "cell_type": "markdown",
   "metadata": {},
   "source": [
    "#### Ejercicio 3: \n",
    "1) ¿Cuántas simulaciones es necesario hacer para acercarse a los valores teóricos?\n",
    "\n",
    "2) Cambie los valores de los parámetros y analice si hay cambios en su respuesta en (1)"
   ]
  },
  {
   "cell_type": "markdown",
   "metadata": {},
   "source": [
    "#### Ejercicio 4: \n",
    "Realice un desarrollo similar para el caso de una variable aleatoria continua distribuída chi-cuadrado de $k$ grados de libertad"
   ]
  },
  {
   "cell_type": "markdown",
   "metadata": {},
   "source": [
    "#### Ejercicio 5 (2 puntos):\n",
    "Utilice datos de sismicidad del Centro de Sismológico Nacional (http://evtdb.csn.uchile.cl/events), escoja dos  regiones geográficas en Chile (y la región del océano Pacífico contigua), con dimensiones de al menos 5 grados, tanto en longitud como latitud y grafique los histogramas de magnitud y profundidad de los eventos sísmicos significativos disponibles. Calcule parámetros empíricos para cada serie de datos.  Compare y concluya."
   ]
  },
  {
   "cell_type": "markdown",
   "metadata": {},
   "source": [
    "### Referencias\n",
    "\n",
    "https://github.com/WillKoehrsen/Data-Analysis/blob/master/univariate_dist/Histogram%20and%20Density%20Plot.ipynb\n"
   ]
  }
 ],
 "metadata": {
  "kernelspec": {
   "display_name": "Python 3 (ipykernel)",
   "language": "python",
   "name": "python3"
  },
  "language_info": {
   "codemirror_mode": {
    "name": "ipython",
    "version": 3
   },
   "file_extension": ".py",
   "mimetype": "text/x-python",
   "name": "python",
   "nbconvert_exporter": "python",
   "pygments_lexer": "ipython3",
   "version": "3.8.10"
  }
 },
 "nbformat": 4,
 "nbformat_minor": 2
}
