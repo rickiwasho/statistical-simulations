{
  "nbformat": 4,
  "nbformat_minor": 0,
  "metadata": {
    "kernelspec": {
      "display_name": "Python 3 (ipykernel)",
      "language": "python",
      "name": "python3"
    },
    "language_info": {
      "codemirror_mode": {
        "name": "ipython",
        "version": 3
      },
      "file_extension": ".py",
      "mimetype": "text/x-python",
      "name": "python",
      "nbconvert_exporter": "python",
      "pygments_lexer": "ipython3",
      "version": "3.8.10"
    },
    "colab": {
      "name": "Laboratorio_1.ipynb",
      "provenance": [],
      "collapsed_sections": []
    }
  },
  "cells": [
    {
      "cell_type": "markdown",
      "metadata": {
        "id": "RGcEMSE7Ztdl"
      },
      "source": [
        "# SIMULACIÓN: LABORATORIO 1\n",
        "### Entrega: martes 24 de agosto 2021, 23:59 horas\n"
      ]
    },
    {
      "cell_type": "markdown",
      "metadata": {
        "id": "XfaoMTOHZtdp"
      },
      "source": [
        "### CONTENIDOS\n",
        "- Ejemplo del lanzamiento de monedas\n",
        "- Conceptos: Espacio muestral, evento, probabilidad\n",
        "- Principios de probabilidad y propiedades\n",
        "\n"
      ]
    },
    {
      "cell_type": "markdown",
      "metadata": {
        "id": "g8aoSJPDZtdq"
      },
      "source": [
        "### ¿Cómo asignamos valores de probabilidad?\n",
        "\n",
        "- $\\textbf{Enfoque frecuentista relativo o de simulación:}$ Sea $n$ el número de experimentos, y $n(A)$ el número de veces que el evento $A$ ocurre en la realización de esos experimentos, entonces $P(A) = \\frac{n(A)}{n}$\n",
        "\n",
        "- $\\textbf{Enfoque frecuentista clásico:}$ Sea $n(A)$ el número elementos en el evento $A$, y $n(\\Omega)$ el número de elementos en el espacio muestral $\\Omega$, entonces $P(A) = \\frac{n(A)}{n(\\Omega)}$\n",
        "\n",
        "- $\\textbf{Enfoque Bayesiano:}$ Yo pienso que la probabilidad de que me gane un proyecto es $0.9$ (probabilidad a priori)."
      ]
    },
    {
      "cell_type": "code",
      "metadata": {
        "id": "81CT9dYuZtdr"
      },
      "source": [
        "from IPython.core.display import Image, display\n",
        "import numpy as np\n",
        "import matplotlib as mpl\n",
        "import matplotlib.pyplot as plt\n",
        "import matplotlib.ticker as ticker\n",
        "import pandas as pd\n",
        "import seaborn as sns\n",
        "import random"
      ],
      "execution_count": null,
      "outputs": []
    },
    {
      "cell_type": "markdown",
      "metadata": {
        "id": "w4ZDDsBVZtds"
      },
      "source": [
        "## Lanzamiento de monedas"
      ]
    },
    {
      "cell_type": "code",
      "metadata": {
        "id": "JftZoR-aZtdt"
      },
      "source": [
        "# Define algunos parámetros del contexto de trabajo\n",
        "sns.set_context(\"notebook\", \n",
        "                font_scale=1.5, \n",
        "                rc={\"lines.linewidth\": 2.5})\n",
        "sns.set_style('whitegrid')\n",
        "sns.set_palette('deep')\n",
        "# Crea dic variables de color que serán usadas en este contexto\n",
        "rojo= sns.xkcd_rgb['vermillion']\n",
        "azul= sns.xkcd_rgb['dark sky blue']\n"
      ],
      "execution_count": null,
      "outputs": []
    },
    {
      "cell_type": "code",
      "metadata": {
        "id": "yrHqgjkeZtdt"
      },
      "source": [
        "#utilzaremos la distribución binomial para modelar el experimento del lanzamiento de una moneda n veces\n",
        "def factorial(n):\n",
        "    \"\"\"Calcula factorial de `n`\n",
        "    \"\"\"\n",
        "    vals = list(range(1, n + 1))\n",
        "    if len(vals) <= 0:\n",
        "        return 1\n",
        "\n",
        "    prod = 1\n",
        "    for val in vals:\n",
        "        prod *= val\n",
        "        \n",
        "    return prod\n",
        "    \n",
        "    \n",
        "def n_choose_k(n, k):\n",
        "    \"\"\"Calcula la combinatoria de n y k \n",
        "    \"\"\"\n",
        "    return factorial(n) / (factorial(k) * factorial(n - k))\n",
        "\n",
        "\n",
        "def binom_prob(n, k, p):\n",
        "    \"\"\"Retorna la probabilidad de que ocurran `k` caras in `n` lanzamientos de una moneda\n",
        "    \n",
        "    Argumentos:\n",
        "    \n",
        "    n - número de ensayos\n",
        "    k - número de ensayos en los que se obtiene cara\n",
        "    p - probabilidad de que el evento \"obtener cara\" ocurra\n",
        "    \n",
        "    \"\"\"\n",
        "    return n_choose_k(n, k) * p**k * (1 - p)**(n - k)\n",
        "\n",
        "def lanzaMoneda(N_caras, N_exper): \n",
        "    # Calcula la probabilidad de cada posible salida (N_caras) \n",
        "    # del experimento de lanzar N_exper veces una moneda equilibrada\n",
        "    probabilidades = [binom_prob(N_exper, k, 0.5) for k in range(1, N_exper + 1)]\n",
        "    #p_value es la probabilidad de que la salida sea mayor o igual que N_caras\n",
        "    p_value = (np.sum(probabilidades[N_caras-1:]))\n",
        "    # Grafica la distribución de probabilidad calculada\n",
        "    plt.step(range(1, N_exper + 1), probabilidades, where='mid', color=azul)\n",
        "    plt.xlabel('número de caras')\n",
        "    plt.ylabel('probabilidad')\n",
        "    plt.plot((N_caras, N_caras), (0, max(probabilidades)), color=rojo)\n",
        "    \n",
        "    porc = round((p_value)*100,3)\n",
        "    plt.annotate( str(porc) + '%', \n",
        "                 xytext=(N_caras + 10, max(probabilidades)/2), \n",
        "                 xy=(N_caras, max(probabilidades)/2), \n",
        "                 multialignment='right',\n",
        "                 va='center',\n",
        "                 color=rojo,\n",
        "#                  size='large',\n",
        "                 arrowprops={'arrowstyle': '<|-', \n",
        "                             'lw': 1, \n",
        "                             'color': rojo, \n",
        "                             'shrinkA': 1})\n",
        "    return p_value*100"
      ],
      "execution_count": null,
      "outputs": []
    },
    {
      "cell_type": "code",
      "metadata": {
        "id": "blJPvZycZtdu",
        "outputId": "c79e86b8-ffa1-4f42-ecbc-d255c03e7a94"
      },
      "source": [
        "lanzaMoneda(22,50)"
      ],
      "execution_count": null,
      "outputs": [
        {
          "data": {
            "text/plain": [
              "83.88818398212265"
            ]
          },
          "execution_count": 53,
          "metadata": {},
          "output_type": "execute_result"
        },
        {
          "data": {
            "image/png": "[encoded data removed]",
            "text/plain": [
              "<Figure size 432x288 with 1 Axes>"
            ]
          },
          "metadata": {},
          "output_type": "display_data"
        }
      ]
    },
    {
      "cell_type": "code",
      "metadata": {
        "scrolled": true,
        "id": "LS7y9T1PZtdv",
        "outputId": "71df16ff-7105-4798-e647-b7460c3ac8fc"
      },
      "source": [
        "#Simularemos directamente el lanzamiento de la moneda considerando # valores aleatorios para el resultado de cada lanzamiento\n",
        "M = 0\n",
        "n = 100  # cambie este valor.\n",
        "N_caras = 22\n",
        "N_exper = 50\n",
        "for i in range(n):\n",
        "    #genera N_exper valores aleatorios 0 o 1\n",
        "    ensayos = np.random.randint(2, size=N_exper)\n",
        "    if (ensayos.sum() >= N_caras):\n",
        "        M += 1\n",
        "p = M / n\n",
        "\n",
        "print(\"P-value simulado: %0.1f%%\" % (p * 100))\n",
        "lanzaMoneda(N_caras,N_exper)"
      ],
      "execution_count": null,
      "outputs": [
        {
          "name": "stdout",
          "output_type": "stream",
          "text": [
            "P-value simulado: 83.0%\n"
          ]
        },
        {
          "data": {
            "text/plain": [
              "83.88818398212265"
            ]
          },
          "execution_count": 54,
          "metadata": {},
          "output_type": "execute_result"
        },
        {
          "data": {
            "image/png": "[encoded data removed]",
            "text/plain": [
              "<Figure size 432x288 with 1 Axes>"
            ]
          },
          "metadata": {},
          "output_type": "display_data"
        }
      ]
    },
    {
      "cell_type": "markdown",
      "metadata": {
        "id": "V6Yjz0U0Ztdw"
      },
      "source": [
        "### Pregunta 1\n",
        "**i) Utilice distintos valores para N_caras y N_exper ¿Qué es el valor \"p\" en ambos casos?**"
      ]
    },
    {
      "cell_type": "code",
      "metadata": {
        "scrolled": true,
        "id": "n6bPLY6vZtdx",
        "outputId": "02a175c3-8b0e-45cc-d5e8-f16d0be7aff1"
      },
      "source": [
        "lanzaMoneda(3,5)"
      ],
      "execution_count": null,
      "outputs": [
        {
          "data": {
            "text/plain": [
              "50.0"
            ]
          },
          "execution_count": 55,
          "metadata": {},
          "output_type": "execute_result"
        },
        {
          "data": {
            "image/png": "[encoded data removed]",
            "text/plain": [
              "<Figure size 432x288 with 1 Axes>"
            ]
          },
          "metadata": {},
          "output_type": "display_data"
        }
      ]
    },
    {
      "cell_type": "markdown",
      "metadata": {
        "id": "MMV2Vd3lZtdx"
      },
      "source": [
        "_Acorde a la bibliografía presentada, el p-value equivale a la probabilidad de que un valor estadístico sea posible dada una hipótesis nula cierta. En simples palabras, el valor p ayuda a diferenciar resultados que son producto del azar del muestreo, de resultados que son estadísticamente significativos. En el caso de esperar 3 caras en 5 lanzamientos tenemos un p-value del 50%, este valor contempla todas las posibles permutaciones que alberguen **al menos** tres caras._   "
      ]
    },
    {
      "cell_type": "markdown",
      "metadata": {
        "id": "pWBZ8oK-Ztdx"
      },
      "source": [
        "**ii) En el código de la simulación, considere valores crecientes de n ¿Desde qué cantidad la simulación reemplaza el análisis estadístico? Agregue código para graficar el comportamiento de convergencia de la simulación al valor obtenido utilizando la distribución binomial.**"
      ]
    },
    {
      "cell_type": "code",
      "metadata": {
        "scrolled": false,
        "id": "2wTWbQ6TZtdx",
        "outputId": "542b0f37-3074-4aa0-ee34-682095a0fd1f"
      },
      "source": [
        "n = np.array([10, 100, 1000, 10000, 100000, 1000000, 10000000])\n",
        "p_obtenidos = []\n",
        "\n",
        "def Simulacion(n):\n",
        "    M = 0\n",
        "    N_caras = 22\n",
        "    N_exper = 50\n",
        "    for i in range(n):\n",
        "        #genera N_exper valores aleatorios 0 o 1\n",
        "        ensayos = np.random.randint(2, size=N_exper)\n",
        "        if (ensayos.sum() >= N_caras):\n",
        "            M += 1\n",
        "    p = M / n\n",
        "\n",
        "    print(\"Para n=\", n, \" el p-value simulado es: %0.1f%%\" % (p * 100))\n",
        "    lanzaMoneda(N_caras,N_exper)\n",
        "    return p*100\n",
        "\n",
        "for i in n:\n",
        "    p_obtenidos.append(Simulacion(i))"
      ],
      "execution_count": null,
      "outputs": [
        {
          "name": "stdout",
          "output_type": "stream",
          "text": [
            "Para n= 10  el p-value simulado es: 80.0%\n",
            "Para n= 100  el p-value simulado es: 76.0%\n",
            "Para n= 1000  el p-value simulado es: 83.9%\n",
            "Para n= 10000  el p-value simulado es: 84.0%\n",
            "Para n= 100000  el p-value simulado es: 84.0%\n",
            "Para n= 1000000  el p-value simulado es: 83.9%\n",
            "Para n= 10000000  el p-value simulado es: 83.9%\n"
          ]
        },
        {
          "data": {
            "image/png": "[encoded data removed]",
            "text/plain": [
              "<Figure size 432x288 with 1 Axes>"
            ]
          },
          "metadata": {},
          "output_type": "display_data"
        }
      ]
    },
    {
      "cell_type": "code",
      "metadata": {
        "scrolled": true,
        "id": "lLdXuy1rZtdz",
        "outputId": "e38fcf30-dc27-44cc-ced9-244ae85cd2d4"
      },
      "source": [
        "fig, ax = plt.subplots(figsize=(7, 4), tight_layout=True, facecolor='#EEF')\n",
        "ax.set_xscale('log')\n",
        "x_labels = ax.get_xticks()\n",
        "ax.xaxis.set_major_formatter(ticker.FormatStrFormatter('%0.0e'))\n",
        "ax.set_title(\"Convergencia de P-value en función del N° de lanzamientos\", fontname='serif')\n",
        "ax.set_xlabel('N° de simulaciones de lanzamientos', fontsize=20, fontname='serif')\n",
        "ax.set_ylabel('P-value', fontsize=14, fontname='serif')\n",
        "ax.set_yticks([p_obtenidos[-1]])\n",
        "ax.grid(color=\"blue\", which=\"major\", axis='both', linestyle=':', linewidth=0.5)\n",
        "\n",
        "ax.plot(n, p_obtenidos)"
      ],
      "execution_count": null,
      "outputs": [
        {
          "data": {
            "text/plain": [
              "[<matplotlib.lines.Line2D at 0x7f903fbf99d0>]"
            ]
          },
          "execution_count": 8,
          "metadata": {},
          "output_type": "execute_result"
        },
        {
          "data": {
            "image/png": "[encoded data removed]",
            "text/plain": [
              "<Figure size 504x288 with 1 Axes>"
            ]
          },
          "metadata": {},
          "output_type": "display_data"
        }
      ]
    },
    {
      "cell_type": "markdown",
      "metadata": {
        "id": "ID6kTfSwZtdz"
      },
      "source": [
        "Es posible observar que a medida que aumenta el número de lanzamientos de la moneda, el p-value tiende a un valor cercano a 83.9. Se puede observar en la gráfica que este valor se consigue cuando el número de lanzamientos es cercano a 1000, luego de este número la tendencia se hace evidente.\n",
        "\n",
        "Una interpretación de este fenómeno es que mientras realicemos más pruebas, iremos acercandonos a un mayor nivel de veracidad al momento de evaluar nuestras afirmaciones. "
      ]
    },
    {
      "cell_type": "markdown",
      "metadata": {
        "id": "mLx8cyn7Ztdz"
      },
      "source": [
        "### **Pregunta 2** \n",
        "En un certamen literario hay 3 premios: ganador, finalista y mención honrosa. Cada participante sólo puede obtener un premio. Si participan 12 personas en el certamen, se puede definir, el espacio muestral de los posibles resultados como:\n",
        "\n",
        "${S = \\{ \\text{todas las formas de ordenar } (1,2,3,4,5,6,7,8,9,10,11,12) \\}}$\n",
        "\n",
        "En donde los números identifican a cada una de las 12 personas y  las primeras tres ubicaciones corresponden a los escritores premiados.\n",
        "\n",
        "Sea ${A}$ el evento en que la persona #1 es ganador, el evento ${B}$ denota que la persona #2 no gana ningún premio, y el evento ${C}$ es que la persona #3 gana la mención honrosa.\n",
        "\n",
        "Simule las probabilidades de los siguientes eventos y compare con los valores teóricos:  \n",
        "\n",
        "(i) $A \\cup B$ \n",
        "\n",
        "(ii) $A \\cap B$\n",
        "\n",
        "(iii) $A \\cap B \\cap C$\n",
        "\n",
        "(iv) $A \\cup (B\\cap C)$\n",
        "\n",
        "\n",
        "puede usar random.shuffle de la biblioteca random para generar permutaciones aleatorias de [1,2,...,12] "
      ]
    },
    {
      "cell_type": "markdown",
      "metadata": {
        "id": "JA06g6S4Ztdz"
      },
      "source": [
        "#### **Respuesta**\n",
        "El número total de permutaciones del conjunto S viene dado por factorial de n, donde n es el número de elementos de S."
      ]
    },
    {
      "cell_type": "code",
      "metadata": {
        "id": "0yCKhz2cZtdz",
        "outputId": "1d04b7eb-4c7e-4997-e579-1c78699010bf"
      },
      "source": [
        "n = factorial(12)\n",
        "n"
      ],
      "execution_count": null,
      "outputs": [
        {
          "data": {
            "text/plain": [
              "479001600"
            ]
          },
          "execution_count": 9,
          "metadata": {},
          "output_type": "execute_result"
        }
      ]
    },
    {
      "cell_type": "markdown",
      "metadata": {
        "id": "Xo4x_JV5Ztdz"
      },
      "source": [
        "El número de casos posibles para A viene dado por el factorial de n-1."
      ]
    },
    {
      "cell_type": "code",
      "metadata": {
        "scrolled": true,
        "id": "a6vc67qSZtdz",
        "outputId": "a7c1b0b4-7010-4511-833e-0c61aa42d9d1"
      },
      "source": [
        "casos_a = factorial(11)\n",
        "prob_a = (casos_a/n)\n",
        "casos_a"
      ],
      "execution_count": null,
      "outputs": [
        {
          "data": {
            "text/plain": [
              "39916800"
            ]
          },
          "execution_count": 10,
          "metadata": {},
          "output_type": "execute_result"
        }
      ]
    },
    {
      "cell_type": "markdown",
      "metadata": {
        "id": "u2Wr-MHYZtd1"
      },
      "source": [
        "El número de casos posibles para B viene dado por: "
      ]
    },
    {
      "cell_type": "code",
      "metadata": {
        "id": "LQrgMnZEZtd1",
        "outputId": "36e51b8d-68fe-4a32-85a7-d3f481f4089e"
      },
      "source": [
        "casos_b = factorial(11)*9\n",
        "prob_b = (casos_b/n)\n",
        "casos_b"
      ],
      "execution_count": null,
      "outputs": [
        {
          "data": {
            "text/plain": [
              "359251200"
            ]
          },
          "execution_count": 11,
          "metadata": {},
          "output_type": "execute_result"
        }
      ]
    },
    {
      "cell_type": "markdown",
      "metadata": {
        "id": "jp1oQEJpZtd1"
      },
      "source": [
        "El número de casos posibles para C viene dado por factorial de n-1."
      ]
    },
    {
      "cell_type": "code",
      "metadata": {
        "id": "UeTCfDenZtd1",
        "outputId": "1bdf3d45-3cf3-4233-ef3b-0382db4b2beb"
      },
      "source": [
        "casos_c = factorial(11)\n",
        "prob_c = (casos_c/n)\n",
        "casos_c"
      ],
      "execution_count": null,
      "outputs": [
        {
          "data": {
            "text/plain": [
              "39916800"
            ]
          },
          "execution_count": 12,
          "metadata": {},
          "output_type": "execute_result"
        }
      ]
    },
    {
      "cell_type": "markdown",
      "metadata": {
        "id": "NhqtQVC0Ztd1"
      },
      "source": [
        "\n",
        "(i) $A \\cup B = P(A)+P(B) - P(A \\cap B ) = P(A)+P(B) - P(A)P(B)$\n",
        "\n"
      ]
    },
    {
      "cell_type": "code",
      "metadata": {
        "id": "xkyVGeriZtd1",
        "outputId": "5d127a97-8d5a-41b4-d7c9-5a417e588df8"
      },
      "source": [
        "res_1 = prob_a + prob_b - prob_a * prob_b\n",
        "print('El resultado es: ', res_1*100.0,\"%\")"
      ],
      "execution_count": null,
      "outputs": [
        {
          "name": "stdout",
          "output_type": "stream",
          "text": [
            "El resultado es:  77.08333333333334 %\n"
          ]
        }
      ]
    },
    {
      "cell_type": "markdown",
      "metadata": {
        "id": "5CrG1T6EZtd1"
      },
      "source": [
        "(ii) $A \\cap B = P(A)P(B)$ "
      ]
    },
    {
      "cell_type": "code",
      "metadata": {
        "id": "5yNBL8dvZtd2",
        "outputId": "2a20369b-018e-4c6a-d66e-5af608b66e5f"
      },
      "source": [
        "res_2 = prob_a * prob_b\n",
        "print('El resultado es: ', res_2*100.0,\"%\")"
      ],
      "execution_count": null,
      "outputs": [
        {
          "name": "stdout",
          "output_type": "stream",
          "text": [
            "El resultado es:  6.25 %\n"
          ]
        }
      ]
    },
    {
      "cell_type": "markdown",
      "metadata": {
        "id": "7qMiDA5HZtd3"
      },
      "source": [
        "(iii) $A \\cap B \\cap C$"
      ]
    },
    {
      "cell_type": "code",
      "metadata": {
        "id": "cL9UPiSiZtd3",
        "outputId": "3d5dcd36-e650-456a-c796-d851504ae518"
      },
      "source": [
        "res_3 = prob_a * prob_b * prob_c\n",
        "print('El resultado es: ', res_3*100.0,\"%\")"
      ],
      "execution_count": null,
      "outputs": [
        {
          "name": "stdout",
          "output_type": "stream",
          "text": [
            "El resultado es:  0.5208333333333333 %\n"
          ]
        }
      ]
    },
    {
      "cell_type": "markdown",
      "metadata": {
        "id": "kRXGquxeZtd3"
      },
      "source": [
        "(iv) $A \\cup (B\\cap C)$"
      ]
    },
    {
      "cell_type": "code",
      "metadata": {
        "id": "XLffwcMGZtd3",
        "outputId": "87550d91-248d-4949-96f8-9709929c1bf8"
      },
      "source": [
        "res_4 = prob_a + (prob_b * prob_c) - prob_a * (prob_b * prob_c)\n",
        "print('El resultado es: ', res_4*100.0,\"%\")"
      ],
      "execution_count": null,
      "outputs": [
        {
          "name": "stdout",
          "output_type": "stream",
          "text": [
            "El resultado es:  14.062499999999996 %\n"
          ]
        }
      ]
    },
    {
      "cell_type": "code",
      "metadata": {
        "id": "jG05GzysZtd4"
      },
      "source": [
        "# Número de experimentos\n",
        "n_experimentos = 2000000\n",
        "\n",
        "# Número de ocurrencias de cada caso ( i, ii, iii, iv)\n",
        "n_casos_1 = 0 \n",
        "n_casos_2 = 0 \n",
        "n_casos_3 = 0 \n",
        "n_casos_4 = 0 \n",
        "\n",
        "# Ejecuta los experimentos\n",
        "for i in range(n_experimentos):\n",
        "    \n",
        "    # Realiza una permutación aleatoria a la lista\n",
        "    lista = [1,2,3,4,5,6,7,8,9,10,11,12] \n",
        "    random.shuffle(lista)\n",
        "    \n",
        "    # Almacena resultado de cada caso\n",
        "    A = B = C = False\n",
        "    \n",
        "    # Verifica si se cumple el caso A ( 1 obtiene el mejor premio )\n",
        "    if lista[0] == 1:\n",
        "        A = True\n",
        "    \n",
        "    # Verifica el caso B ( 2 no gana ningún premio )\n",
        "    if lista.index(2) > 2:\n",
        "        B = True\n",
        "    \n",
        "    # Verifica el caso C ( 3 obtiene mención honrosa )\n",
        "    if lista[2] == 3:\n",
        "        C = True\n",
        "    \n",
        "    # Calcula condiciones\n",
        "    \n",
        "    # Condición (i)\n",
        "    if A or B:\n",
        "        n_casos_1 += 1\n",
        "        \n",
        "    # Condición (ii)\n",
        "    if A and B:\n",
        "        n_casos_2 += 1\n",
        "        \n",
        "    # Condición (iii)\n",
        "    if A and B and C:\n",
        "        n_casos_3 += 1\n",
        "    \n",
        "    # Condición (iv)\n",
        "    if A or (B and C):\n",
        "        n_casos_4 += 1"
      ],
      "execution_count": null,
      "outputs": []
    },
    {
      "cell_type": "code",
      "metadata": {
        "id": "V7I6loS3Ztd4",
        "outputId": "c00bfaed-a1ce-464c-f730-1af4e3a6c48b"
      },
      "source": [
        "# Resultados\n",
        "print(\"Probabilidad caso(i):\",100.0*n_casos_1/n_experimentos,\"%\")\n",
        "print(\"Probabilidad caso(ii):\",100.0*n_casos_2/n_experimentos,\"%\")\n",
        "print(\"Probabilidad caso(iii):\",100.0*n_casos_3/n_experimentos,\"%\")\n",
        "print(\"Probabilidad caso(iv):\",100.0*n_casos_4/n_experimentos,\"%\")"
      ],
      "execution_count": null,
      "outputs": [
        {
          "name": "stdout",
          "output_type": "stream",
          "text": [
            "Probabilidad caso(i): 76.49605 %\n",
            "Probabilidad caso(ii): 6.83465 %\n",
            "Probabilidad caso(iii): 0.67795 %\n",
            "Probabilidad caso(iv): 14.48315 %\n"
          ]
        }
      ]
    },
    {
      "cell_type": "markdown",
      "metadata": {
        "id": "niOPuqasZtd4"
      },
      "source": [
        "Podemos notar que los resultados experimentales son similares a los teóricos, y que la diferencia entre ambos resultados disminuye a medida que aumentamos el número de experimentos."
      ]
    },
    {
      "cell_type": "markdown",
      "metadata": {
        "id": "RKKEDYRjZtd4"
      },
      "source": [
        "### **Pregunta 3**\n",
        "\n",
        "**(i)  Demuestre (b) y (c) en la propiedad de Independencia.**    \n",
        "\n",
        "\n",
        "Si $A$ es independiente de $B$, entonces se cumple que:  \n",
        "1. $ A $ es independiente de $B^C$    \n",
        "2. $A^C$ es independiente de $B^C$\n",
        "\n",
        "#### Demostración:\n",
        "Podemos suponer que $P(A)\\neq 0$ ó $1$ y $P(B) \\neq 0$ ó $1 $, ya que los complementos en tales casos también son nulos o seguros y la independencia está garantizada.\n",
        "\n",
        "1. $P(A\\cap B^C) = P(A)P(B^C/A) = P(A)(1-P(B/A))=P(A)(1-P(B))=P(A)P(B^C)$\n",
        "\n",
        "2. $P(A^C\\cap B^C) = P(A^C)P(B^C|A^C)=P(A^C)(1-P(B|A^C)=P(A^C)(1-P(B))=P(A^C)P(B^C)$\n"
      ]
    },
    {
      "cell_type": "markdown",
      "metadata": {
        "id": "kl18-WKvZtd5"
      },
      "source": [
        "**(ii) Demuestre el Teorema de las Probabiliades totales.**\n",
        "\n",
        "Para realizar una demostración clara es menester explicar algunos conceptos.\n",
        "##### ¿Qué es partición del espacio muestral? \n",
        "Se dice que $B_1, B_2, ..., B_n$ forman una partición del espacio muestral $S$ cuando cumplen las siguientes condiciones:   \n",
        "1) $B_i \\cap B_j = \\phi $, para todo $i \\neq j$ (miembros disjuntos)     \n",
        "2) $B_i \\neq \\phi $, para todo $1 \\leq i \\leq n$ (miembros no vacíos)   \n",
        "3) $B_1 \\cup B_2  \\cup B_3 \\cup ... \\cup B_n = S$, (unión de los miembros forma el espacio muestral)\n",
        "\n",
        "#### Teorema:    \n",
        "_Sea $B_1, B_2,..., B_n$ una partición sobre el espacio muestral y sea $A$ un suceso cualquiera del que se conocen las probabilidades condicionales $P(A|B_i)$, entonces la probabilidad del suceso $A$ viene dada por la expresión:_     \n",
        "\n",
        "$P(A) = \\sum_{i=1}^{n} P(A|B_i)P(B_i)$\n",
        "#### Demostración:\n",
        "\n",
        "![demo](https://seactuario.com/ContMatematicas/ImagesProbab/probtotal.png)"
      ]
    },
    {
      "cell_type": "markdown",
      "metadata": {
        "id": "sdg9-w2tZtd5"
      },
      "source": [
        "$A = (A \\cap B_1) \\cup (A \\cap B_2) \\cup (A \\cap B_3) \\cup ... \\cup (A \\cap B_n)$    \n",
        "El suceso A está compuesto de elementos del espacio muestral particionado    \n",
        "$P(A) = P[(A \\cap B_1) \\cup (A \\cap B_2) \\cup (A \\cap B_3) \\cup ... \\cup (A \\cap B_n)]$    \n",
        "$P(A) = P(A \\cap B_1)+P(A \\cap B_2)+...+ P(A \\cap B_n)$     \n",
        "$P(A) = P(A|B_1)P(B_1) + P(A|B_2)P(B_2) + ... + P(A|B_n)P(B_n)$    \n",
        "La probabilidad del suceso A se obtiene a partir de las uniones de los fragmentos que componen a A, fragmentos que tienen una probabilidad de ocurrencia y que cuando son sumados equivalen la probabilidad total del suceso. "
      ]
    },
    {
      "cell_type": "markdown",
      "metadata": {
        "id": "455kq-nRZtd5"
      },
      "source": [
        "# Referencias\n",
        "1. https://github.com/croach/statistics-for-hackers/blob/master/statistics-for-hackers.ipynb\n",
        "2. Ross, S. M. (2006). Simulation. Elsevier."
      ]
    }
  ]
}