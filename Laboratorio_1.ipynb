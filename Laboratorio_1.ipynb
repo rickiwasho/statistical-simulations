{
 "cells": [
  {
   "cell_type": "markdown",
   "metadata": {},
   "source": [
    "# SIMULACIÓN: LABORATORIO 1\n",
    "### Entrega: martes 24 de agosto 2021, 23:59 horas\n"
   ]
  },
  {
   "cell_type": "markdown",
   "metadata": {},
   "source": [
    "### CONTENIDOS\n",
    "- Ejemplo del lanzamiento de monedas\n",
    "- Conceptos: Espacio muestral, evento, probabilidad\n",
    "- Principios de probabilidad y propiedades\n",
    "\n"
   ]
  },
  {
   "cell_type": "markdown",
   "metadata": {},
   "source": [
    "### ¿Cómo asignamos valores de probabilidad?\n",
    "\n",
    "- $\\textbf{Enfoque frecuentista relativo o de simulación:}$ Sea $n$ el número de experimentos, y $n(A)$ el número de veces que el evento $A$ ocurre en la realización de esos experimentos, entonces $P(A) = \\frac{n(A)}{n}$\n",
    "\n",
    "- $\\textbf{Enfoque frecuentista clásico:}$ Sea $n(A)$ el número elementos en el evento $A$, y $n(\\Omega)$ el número de elementos en el espacio muestral $\\Omega$, entonces $P(A) = \\frac{n(A)}{n(\\Omega)}$\n",
    "\n",
    "- $\\textbf{Enfoque Bayesiano:}$ Yo pienso que la probabilidad de que me gane un proyecto es $0.9$ (probabilidad a priori)."
   ]
  },
  {
   "cell_type": "code",
   "execution_count": null,
   "metadata": {},
   "outputs": [],
   "source": [
    "import numpy as np\n",
    "import matplotlib as mpl\n",
    "import matplotlib.pyplot as plt\n",
    "import matplotlib.ticker as ticker\n",
    "import pandas as pd\n",
    "import seaborn as sns"
   ]
  },
  {
   "cell_type": "markdown",
   "metadata": {},
   "source": [
    "## Lanzamiento de monedas"
   ]
  },
  {
   "cell_type": "code",
   "execution_count": null,
   "metadata": {},
   "outputs": [],
   "source": [
    "# Define algunos parámetros del contexto de trabajo\n",
    "sns.set_context(\"notebook\", \n",
    "                font_scale=1.5, \n",
    "                rc={\"lines.linewidth\": 2.5})\n",
    "sns.set_style('whitegrid')\n",
    "sns.set_palette('deep')\n",
    "# Crea dic variables de color que serán usadas en este contexto\n",
    "rojo= sns.xkcd_rgb['vermillion']\n",
    "azul= sns.xkcd_rgb['dark sky blue']\n"
   ]
  },
  {
   "cell_type": "code",
   "execution_count": null,
   "metadata": {},
   "outputs": [],
   "source": [
    "#utilzaremos la distribución binomial para modelar el experimento del lanzamiento de una moneda n veces\n",
    "def factorial(n):\n",
    "    \"\"\"Calcula factorial de `n`\n",
    "    \"\"\"\n",
    "    vals = list(range(1, n + 1))\n",
    "    if len(vals) <= 0:\n",
    "        return 1\n",
    "\n",
    "    prod = 1\n",
    "    for val in vals:\n",
    "        prod *= val\n",
    "        \n",
    "    return prod\n",
    "    \n",
    "    \n",
    "def n_choose_k(n, k):\n",
    "    \"\"\"Calcula la combinatoria de n y k \n",
    "    \"\"\"\n",
    "    return factorial(n) / (factorial(k) * factorial(n - k))\n",
    "\n",
    "\n",
    "def binom_prob(n, k, p):\n",
    "    \"\"\"Retorna la probabilidad de que ocurran `k` caras in `n` lanzamientos de una moneda\n",
    "    \n",
    "    Argumentos:\n",
    "    \n",
    "    n - número de ensayos\n",
    "    k - número de ensayos en los que se obtiene cara\n",
    "    p - probabilidad de que el evento \"obtener cara\" ocurra\n",
    "    \n",
    "    \"\"\"\n",
    "    return n_choose_k(n, k) * p**k * (1 - p)**(n - k)\n",
    "\n",
    "def lanzaMoneda(N_caras, N_exper): \n",
    "    # Calcula la probabilidad de cada posible salida (N_caras) \n",
    "    # del experimento de lanzar N_exper veces una moneda equilibrada\n",
    "    probabilidades = [binom_prob(N_exper, k, 0.5) for k in range(1, N_exper + 1)]\n",
    "    #p_value es la probabilidad de que la salida sea mayor o igual que N_caras\n",
    "    p_value = (np.sum(probabilidades[N_caras-1:]))\n",
    "    # Grafica la distribución de probabilidad calculada\n",
    "    plt.step(range(1, N_exper + 1), probabilidades, where='mid', color=azul)\n",
    "    plt.xlabel('número de caras')\n",
    "    plt.ylabel('probabilidad')\n",
    "    plt.plot((N_caras, N_caras), (0, max(probabilidades)), color=rojo)\n",
    "    \n",
    "    porc = round((p_value)*100,3)\n",
    "    plt.annotate( str(porc) + '%', \n",
    "                 xytext=(N_caras + 10, max(probabilidades)/2), \n",
    "                 xy=(N_caras, max(probabilidades)/2), \n",
    "                 multialignment='right',\n",
    "                 va='center',\n",
    "                 color=rojo,\n",
    "#                  size='large',\n",
    "                 arrowprops={'arrowstyle': '<|-', \n",
    "                             'lw': 1, \n",
    "                             'color': rojo, \n",
    "                             'shrinkA': 1})\n",
    "    return p_value*100"
   ]
  },
  {
   "cell_type": "code",
   "execution_count": null,
   "metadata": {},
   "outputs": [],
   "source": [
    "lanzaMoneda(22,50)"
   ]
  },
  {
   "cell_type": "code",
   "execution_count": null,
   "metadata": {
    "scrolled": true
   },
   "outputs": [],
   "source": [
    "#Simularemos directamente el lanzamiento de la moneda considerando # valores aleatorios para el resultado de cada lanzamiento\n",
    "M = 0\n",
    "n = 100  # cambie este valor.\n",
    "N_caras = 22\n",
    "N_exper = 50\n",
    "for i in range(n):\n",
    "    #genera N_exper valores aleatorios 0 o 1\n",
    "    ensayos = np.random.randint(2, size=N_exper)\n",
    "    if (ensayos.sum() >= N_caras):\n",
    "        M += 1\n",
    "p = M / n\n",
    "\n",
    "print(\"P-value simulado: %0.1f%%\" % (p * 100))\n",
    "lanzaMoneda(N_caras,N_exper)"
   ]
  },
  {
   "cell_type": "markdown",
   "metadata": {},
   "source": [
    "### Pregunta 1\n",
    "i) Utilice distintos valores para N_caras y N_exper ¿Qué es el valor \"p\" en ambos casos?"
   ]
  },
  {
   "cell_type": "code",
   "execution_count": null,
   "metadata": {
    "scrolled": true
   },
   "outputs": [],
   "source": [
    "lanzaMoneda(3,5)"
   ]
  },
  {
   "cell_type": "markdown",
   "metadata": {},
   "source": [
    "_Acorde a la bibliografía presentada, el p-value equivale a la probabilidad de que se cumpla cierto supuesto. En el caso de esperar 3 caras en 5 lanzamientos tenemos un p-value del 50%, este valor contempla todas las posibles permutaciones que alberguen **al menos** tres caras._   "
   ]
  },
  {
   "cell_type": "markdown",
   "metadata": {},
   "source": [
    "ii) En el código de la simulación, considere valores crecientes de n ¿Desde qué cantidad la simulación reemplaza el análisis estadístico? Agregue código para graficar el comportamiento de convergencia de la simulación al valor obtenido utilizando la distribución binomial."
   ]
  },
  {
   "cell_type": "code",
   "execution_count": null,
   "metadata": {
    "scrolled": false
   },
   "outputs": [],
   "source": [
    "n = np.array([10, 100, 1000, 10000, 100000, 1000000, 10000000])\n",
    "p_obtenidos = []\n",
    "\n",
    "def Simulacion(n):\n",
    "    M = 0\n",
    "    N_caras = 22\n",
    "    N_exper = 50\n",
    "    for i in range(n):\n",
    "        #genera N_exper valores aleatorios 0 o 1\n",
    "        ensayos = np.random.randint(2, size=N_exper)\n",
    "        if (ensayos.sum() >= N_caras):\n",
    "            M += 1\n",
    "    p = M / n\n",
    "\n",
    "    print(\"Para n=\", n, \" el p-value simulado es: %0.1f%%\" % (p * 100))\n",
    "    lanzaMoneda(N_caras,N_exper)\n",
    "    return p*100\n",
    "\n",
    "for i in n:\n",
    "    p_obtenidos.append(Simulacion(i))"
   ]
  },
  {
   "cell_type": "code",
   "execution_count": null,
   "metadata": {
    "scrolled": true
   },
   "outputs": [],
   "source": [
    "fig, ax = plt.subplots(figsize=(7, 4), tight_layout=True, facecolor='#EEF')\n",
    "ax.set_xscale('log')\n",
    "x_labels = ax.get_xticks()\n",
    "ax.xaxis.set_major_formatter(ticker.FormatStrFormatter('%0.0e'))\n",
    "ax.set_title(\"Convergencia de P-value en función del N° de lanzamientos\", fontname='serif')\n",
    "ax.set_xlabel('N° de simulaciones de lanzamientos', fontsize=20, fontname='serif')\n",
    "ax.set_ylabel('P-value', fontsize=14, fontname='serif')\n",
    "ax.set_yticks([p_obtenidos[-1]])\n",
    "ax.grid(color=\"blue\", which=\"major\", axis='both', linestyle=':', linewidth=0.5)\n",
    "\n",
    "ax.plot(n, p_obtenidos)"
   ]
  },
  {
   "cell_type": "markdown",
   "metadata": {},
   "source": [
    "Es posible observar que a medida que aumenta el número de lanzamientos el p-value tiende a un valor."
   ]
  },
  {
   "cell_type": "markdown",
   "metadata": {},
   "source": [
    "### Pregunta 2 \n",
    "En un certamen literario hay 3 premios: ganador, finalista y mención honrosa. Cada participante sólo puede obtener un premio. Si participan 12 personas en el certamen, se puede definir, el espacio muestral de los posibles resultados como:\n",
    "\n",
    "${S = \\{ \\text{todas las formas de ordenar } (1,2,3,4,5,6,7,8,9,10,11,12) \\}}$\n",
    "\n",
    "En donde los números identifican a cada una de las 12 personas y  las primeras tres ubicaciones corresponden a los escritores premiados.\n",
    "\n",
    "Sea ${A}$ el evento en que la persona #1 es ganador, el evento ${B}$ denota que la persona #2 no gana ningún premio, y el evento ${C}$ es que la persona #3 gana la mención honrosa.\n",
    "\n",
    "Simule las probabilidades de los siguientes eventos y compare con los valores teóricos:  \n",
    "\n",
    "(i) $A \\cup B$ \n",
    "\n",
    "(ii) $A \\cap B$\n",
    "\n",
    "(iii) $A \\cap B \\cap C$\n",
    "\n",
    "(iv) $A \\cup (B\\cap C)$\n",
    "\n",
    "\n",
    "puede usar random.shuffle de la biblioteca random para generar permutaciones aleatorias de [1,2,...,12] "
   ]
  },
  {
   "cell_type": "code",
   "execution_count": null,
   "metadata": {},
   "outputs": [],
   "source": []
  },
  {
   "cell_type": "markdown",
   "metadata": {},
   "source": [
    "### Pregunta 3\n",
    "\n",
    "(i)  Demuestre (b) y (c) en la propiedad de Independencia.\n",
    "\n",
    "(ii) Demuestre el Teorema de las Probabiliades totales.\n"
   ]
  },
  {
   "cell_type": "markdown",
   "metadata": {},
   "source": [
    "# Referencias\n",
    "1. https://github.com/croach/statistics-for-hackers/blob/master/statistics-for-hackers.ipynb\n",
    "2. Ross, S. M. (2006). Simulation. Elsevier."
   ]
  }
 ],
 "metadata": {
  "kernelspec": {
   "display_name": "Python 3 (ipykernel)",
   "language": "python",
   "name": "python3"
  },
  "language_info": {
   "codemirror_mode": {
    "name": "ipython",
    "version": 3
   },
   "file_extension": ".py",
   "mimetype": "text/x-python",
   "name": "python",
   "nbconvert_exporter": "python",
   "pygments_lexer": "ipython3",
   "version": "3.8.10"
  }
 },
 "nbformat": 4,
 "nbformat_minor": 2
}
