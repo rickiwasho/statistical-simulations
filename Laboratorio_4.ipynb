{
 "cells": [
  {
   "cell_type": "markdown",
   "metadata": {},
   "source": [
    "# SIMULACIÓN | LABORATORIO 4\n"
   ]
  },
  {
   "cell_type": "markdown",
   "metadata": {},
   "source": [
    "## Generación de número pseudo-aleatorios"
   ]
  },
  {
   "cell_type": "code",
   "execution_count": 1,
   "metadata": {},
   "outputs": [],
   "source": [
    "import numpy as np\n",
    "import matplotlib.pyplot as plt\n",
    "import pandas as pd\n",
    "import seaborn as sns\n",
    "import scipy \n",
    "from IPython.display import display\n",
    "import ipywidgets as widgets\n",
    "import random\n",
    "#%matplotlib notebook"
   ]
  },
  {
   "cell_type": "markdown",
   "metadata": {},
   "source": [
    "### El módulo Random de python \n"
   ]
  },
  {
   "cell_type": "markdown",
   "metadata": {},
   "source": [
    "**Ejercicio 1:**\n",
    "- Defina lo que es una semilla y para qué sirve\n",
    "- use random.random() para generar números aleatorios. \n",
    "- use una semilla con random.seed(semilla), y vuelva a ejecutar random.random()\n",
    "- ¿qué ocurre si vuelve a definir la misma semilla y ejecutar random.random()?"
   ]
  },
  {
   "cell_type": "markdown",
   "metadata": {},
   "source": [
    "Una semilla es el valor inicial al que se le aplicará recurrentemente una función para ir obteniendo números pseudo-aleatorios. Sirve para darle un punto de partida a la generación de números pseudo-aleatorios. Se supone que debe ser distinta cada vez que se inicia una secuencia, ya que si la semilla es igual a la utilizada en una secuencia anterior, los términos de las secuencias serán los mismos."
   ]
  },
  {
   "cell_type": "code",
   "execution_count": 2,
   "metadata": {},
   "outputs": [
    {
     "name": "stdout",
     "output_type": "stream",
     "text": [
      "[0.7435288695017863, 0.4582404685734466, 0.19244989532039014, 0.7513208679289989, 0.925529701589268]\n"
     ]
    }
   ],
   "source": [
    "random.seed(None) # default: se usa el reloj del sistema como seed \n",
    "\n",
    "u = [] # arreglo que contendrá los números aleatorios\n",
    "\n",
    "for i in range(5):\n",
    "    u_sub_i = random.random() # genera el siguiente número en la secuencia\n",
    "    u.append(u_sub_i)\n",
    "\n",
    "print(u)"
   ]
  },
  {
   "cell_type": "code",
   "execution_count": 3,
   "metadata": {},
   "outputs": [
    {
     "name": "stdout",
     "output_type": "stream",
     "text": [
      "[0.026343380459525556, 0.7813690555430765, 0.2726063832840899, 0.09559240016295012, 0.6636843135795658]\n",
      "[0.026343380459525556, 0.7813690555430765, 0.2726063832840899, 0.09559240016295012, 0.6636843135795658]\n",
      "True\n"
     ]
    }
   ],
   "source": [
    "random.seed(420)\n",
    "u1 = []\n",
    "\n",
    "for i in range(5):\n",
    "    u1.append(random.random())\n",
    "    \n",
    "# generamos otro arreglo volviendo a definir la misma semilla\n",
    "\n",
    "random.seed(420)\n",
    "u2 = []\n",
    "\n",
    "for i in range(5):\n",
    "    u2.append(random.random())\n",
    "\n",
    "print(u1)\n",
    "print(u2)\n",
    "print(np.array_equiv(u1, u2))"
   ]
  },
  {
   "cell_type": "markdown",
   "metadata": {},
   "source": [
    "Vemos que si definimos la misma semilla, los términos generados son los mismos."
   ]
  },
  {
   "cell_type": "markdown",
   "metadata": {},
   "source": [
    "**Ejercicio 2:**\n",
    "Pruebe las funciones y defina sus diferencias:\n",
    "\n",
    "    - random.randint(a, b)\n",
    "    - random.randrange(a, b)\n",
    "    - random.uniform(a, b)\n",
    "    "
   ]
  },
  {
   "cell_type": "code",
   "execution_count": 4,
   "metadata": {},
   "outputs": [],
   "source": [
    "a = 5\n",
    "b = 10\n",
    "\n",
    "n = 20 # largo de los arreglos a generar\n",
    "\n",
    "r1 = [random.randint(a, b) for i in range(n)]\n",
    "r2 = [random.randrange(a, b) for i in range(n)]\n",
    "r3 = [random.uniform(a, b) for i in range(n)]"
   ]
  },
  {
   "cell_type": "code",
   "execution_count": 5,
   "metadata": {},
   "outputs": [
    {
     "name": "stdout",
     "output_type": "stream",
     "text": [
      "[10, 5, 5, 9, 7, 8, 10, 5, 9, 6, 9, 7, 8, 7, 5, 7, 7, 6, 10, 5]\n"
     ]
    }
   ],
   "source": [
    "print(r1)"
   ]
  },
  {
   "cell_type": "code",
   "execution_count": 6,
   "metadata": {},
   "outputs": [
    {
     "name": "stdout",
     "output_type": "stream",
     "text": [
      "[7, 8, 6, 8, 5, 6, 8, 5, 8, 9, 5, 9, 5, 5, 9, 9, 6, 9, 6, 7]\n"
     ]
    }
   ],
   "source": [
    "print(r2)"
   ]
  },
  {
   "cell_type": "code",
   "execution_count": 7,
   "metadata": {},
   "outputs": [
    {
     "name": "stdout",
     "output_type": "stream",
     "text": [
      "[5.699895491000159, 5.043661549828499, 6.361096342656204, 5.599955336029585, 8.53129882454485, 5.0853276879739235, 9.816350497124155, 9.540271788441675, 7.60114331498575, 6.967546144943989, 7.33799627677147, 6.028084142238877, 7.183397616460307, 8.787088138112642, 9.780555853483856, 8.138125596620046, 7.26118920192236, 5.92631801952733, 9.876024898532222, 7.313186580987082]\n"
     ]
    }
   ],
   "source": [
    "print(r3)"
   ]
  },
  {
   "cell_type": "markdown",
   "metadata": {},
   "source": [
    "`randint` y `randrange` generan solo números enteros. `uniform` genera números de punto flotante.\n",
    "\n",
    "A simple vista, notamos que en el caso de `randint`, `b` es un posible valor a generar, mientras que en randrange, no es posible generar `b`, sino que todos los números generados son menor estricto que b. `a` es posible en ambas funciones.\n",
    "\n",
    "Además, viendo la documentación, notamos que randrange nos permite definir \"saltos\" en nuestro espacio muestral (por ejemplo, que solo sea posible generar números pares)"
   ]
  },
  {
   "cell_type": "markdown",
   "metadata": {},
   "source": [
    "### Clase NotSoRandom:"
   ]
  },
  {
   "cell_type": "code",
   "execution_count": 8,
   "metadata": {},
   "outputs": [],
   "source": [
    "class NotSoRandom(object):\n",
    "    def seed(self, a=3):\n",
    "        \"\"\"Seed the world's most mysterious random number generator.\"\"\"\n",
    "        self.seedval = a\n",
    "    def random(self):\n",
    "        \"\"\"Look, random numbers!\"\"\"\n",
    "        self.seedval = (self.seedval * 3) % 19\n",
    "        return self.seedval\n",
    "\n",
    "_inst = NotSoRandom()\n",
    "seed = _inst.seed\n",
    "random = _inst.random\n"
   ]
  },
  {
   "cell_type": "markdown",
   "metadata": {},
   "source": [
    "**Ejercicio 3:**\n",
    "- use la semilla 1234 y genere números aleatorios hasta que se cumpla un ciclo completo. ¿Cuál resultó ser el periodo?\n",
    "- Intente con otra semilla y busque completar un ciclo. "
   ]
  },
  {
   "cell_type": "code",
   "execution_count": 9,
   "metadata": {},
   "outputs": [
    {
     "name": "stdout",
     "output_type": "stream",
     "text": [
      "[16, 10, 11, 14, 4, 12, 17, 13, 1, 3, 9, 8, 5, 15, 7, 2, 6, 18] [16, 10, 11, 14, 4, 12, 17, 13, 1, 3, 9, 8, 5, 15, 7, 2, 6, 18] Ambas mitades son iguales\n",
      "Periodo:  18\n"
     ]
    }
   ],
   "source": [
    "_inst.seed(1234)\n",
    "\n",
    "valores = []\n",
    "repeticion_ciclo = False\n",
    "i = 0\n",
    "\n",
    "while (not repeticion_ciclo):\n",
    "    valores.append(_inst.random())\n",
    "    i = i + 1\n",
    "    \n",
    "    if (i%2 == 0): # si hay número par de valores\n",
    "        mitad_1 = valores[:(i//2)]\n",
    "        mitad_2 = valores[(i//2):]\n",
    "        repeticion_ciclo = mitad_1 == mitad_2 # chequear si las 2 mitades son iguales\n",
    "        if (repeticion_ciclo):\n",
    "            print(mitad_1, mitad_2, \"Ambas mitades son iguales\")\n",
    "            \n",
    "print(\"Periodo: \", i//2)"
   ]
  },
  {
   "cell_type": "code",
   "execution_count": 10,
   "metadata": {},
   "outputs": [
    {
     "name": "stdout",
     "output_type": "stream",
     "text": [
      "[1, 3, 9, 8, 5, 15, 7, 2, 6, 18, 16, 10, 11, 14, 4, 12, 17, 13] [1, 3, 9, 8, 5, 15, 7, 2, 6, 18, 16, 10, 11, 14, 4, 12, 17, 13] Ambas mitades son iguales\n",
      "Periodo:  18\n"
     ]
    }
   ],
   "source": [
    "_inst.seed(871239)\n",
    "\n",
    "\n",
    "valores = []\n",
    "repeticion_ciclo = False\n",
    "i = 0\n",
    "\n",
    "while (not repeticion_ciclo):\n",
    "    valores.append(_inst.random())\n",
    "    i = i + 1\n",
    "    \n",
    "    if (i%2 == 0): # si hay número par de valores\n",
    "        mitad_1 = valores[:(i//2)]\n",
    "        mitad_2 = valores[(i//2):]\n",
    "        repeticion_ciclo = mitad_1 == mitad_2 # chequear si las 2 mitades son iguales\n",
    "        if (repeticion_ciclo):\n",
    "            print(mitad_1, mitad_2, \"Ambas mitades son iguales\")\n",
    "            \n",
    "print(\"Periodo: \", i//2)"
   ]
  },
  {
   "cell_type": "markdown",
   "metadata": {},
   "source": [
    "El periodo es el mismo para ambas semillas."
   ]
  },
  {
   "cell_type": "markdown",
   "metadata": {},
   "source": [
    "#### **Ejercicio 4:**\n",
    "En este ejercicio vamos a comparar el generador de la biblioteca Random de Python con el generador de números pseudo-aleatorios congruencial lineal descrito en la sesión téórica. Para ello se pide lo siguiente:\n",
    "1. Programe el generador de números pseudo-aleatorios congruencial lineal \n",
    "2. Extraiga secuencias del generador programado y del predefinido en Python, grafique en histogramas, compare y concluya.\n"
   ]
  },
  {
   "cell_type": "code",
   "execution_count": 11,
   "metadata": {},
   "outputs": [],
   "source": [
    "# Modificación de la clase NotSoRandom\n",
    "class LinCongruential(object):\n",
    "    def __init__(self, A, C, M):\n",
    "        self.A = A\n",
    "        self.C = C\n",
    "        self.M = M\n",
    "    def seed(self, a=3):\n",
    "        self.seedval = a\n",
    "    def random(self):\n",
    "        self.seedval = (A* self.seedval + C) % M\n",
    "        return self.seedval"
   ]
  },
  {
   "cell_type": "code",
   "execution_count": 12,
   "metadata": {},
   "outputs": [],
   "source": [
    "import random as rand\n",
    "A = 41\n",
    "C = 43\n",
    "M = 47 #boundaries\n",
    "gen = LinCongruential(A, C, M)\n",
    "gen.seed(140)\n",
    "u = []\n",
    "v = []\n",
    "\n",
    "for i in range(2000):\n",
    "    u.append(gen.random())\n",
    "    v.append(rand.randint(0, 46))"
   ]
  },
  {
   "cell_type": "code",
   "execution_count": 13,
   "metadata": {
    "scrolled": true
   },
   "outputs": [
    {
     "data": {
      "image/png": "[encoded data removed]",
      "text/plain": [
       "<Figure size 648x288 with 2 Axes>"
      ]
     },
     "metadata": {
      "needs_background": "light"
     },
     "output_type": "display_data"
    }
   ],
   "source": [
    "# Histogramas\n",
    "fig, (ax, bx) = plt.subplots(1, 2, figsize=(9, 4), tight_layout=True)\n",
    "\n",
    "ax.hist(u, color = 'blue', edgecolor = 'black', bins = 47)\n",
    "ax.set_title(\"LinCongruential\")\n",
    "\n",
    "bx.hist(v, color = 'red', edgecolor = 'black', bins = 47)\n",
    "bx.set_title(\"random.randrange\")\n",
    "\n",
    "plt.show()"
   ]
  },
  {
   "cell_type": "markdown",
   "metadata": {},
   "source": [
    "En el caso de nuestro generador \"LinCongruential\" hay un valor que nunca ocurre, ya que el ciclo acaba sin haber generado este valor, luego se repite el ciclo con los mismos números del ciclo anterior. \n",
    "Como conclusión, podemos decir que el periodo de un ciclo no necesariamente es igual a M, sino que puede ser menor, especialmente, si no se eligen bien los parámetros A, C y M. \n",
    "\n",
    "\n",
    "El generador de Python presenta una mayor variabilidad en las frecuencias con que se genera cada número, sin embargo, no hay ciclos perceptibles. Además, un mismo número puede salir varias veces sin que eso implique el fin del ciclo. Por ejemplo, es posible que ocurra la secuencia 4, 10, 4, 6,... Dicho en otras palabras, cada elemento de la secuencia no depende únicamente de su predecesor. "
   ]
  },
  {
   "cell_type": "markdown",
   "metadata": {},
   "source": [
    "#### **Ejercicio 5:**\n",
    "Escoja una distribución de probabilidad continua.\n",
    "1. Utilice un método predefinido en Python para generar una secuencia de valores pseudo-aleatorios provenientes de dicha distribución\n",
    "2. Genere una secuencia considerando el algoritmo de la transformada inversa.\n",
    "3. Grafique en histogramas y compare las secuencias en (1) y (2) utilizando el test de k-s"
   ]
  },
  {
   "cell_type": "markdown",
   "metadata": {},
   "source": [
    "### Utilizando la distribución exponencial"
   ]
  },
  {
   "cell_type": "code",
   "execution_count": 60,
   "metadata": {},
   "outputs": [],
   "source": [
    "# Tamaño muestras\n",
    "m = 100000\n",
    "\n",
    "# Lamda\n",
    "lmd = 1.0\n",
    "\n",
    "# Genera secuencia con scipy\n",
    "expNumsA = scipy.stats.expon.rvs(loc=0, scale=1.0/lmd, size=m, random_state=None)\n",
    "\n",
    "# CDF exponencial inversa\n",
    "def expInv(y,lamd):\n",
    "    return np.log(-y+1)/(-lamd)\n",
    "\n",
    "# Genera secuencia de forma manual \n",
    "expNumsB = [expInv(rand.uniform(0, 1),lmd) for i in range(m)]"
   ]
  },
  {
   "cell_type": "code",
   "execution_count": 61,
   "metadata": {
    "scrolled": false
   },
   "outputs": [
    {
     "name": "stdout",
     "output_type": "stream",
     "text": [
      "\n"
     ]
    },
    {
     "data": {
      "image/png": "[encoded data removed]",
      "text/plain": [
       "<Figure size 576x288 with 1 Axes>"
      ]
     },
     "metadata": {
      "needs_background": "light"
     },
     "output_type": "display_data"
    }
   ],
   "source": [
    "fig, ax = plt.subplots(1, 1, figsize=(8, 4), tight_layout=True)\n",
    "ax.hist(expNumsB, color = '#0000FF77', bins = 80)\n",
    "ax.hist(expNumsA, color = '#FF000044', edgecolor = 'black', bins = 80)\n",
    "print()"
   ]
  },
  {
   "cell_type": "code",
   "execution_count": 62,
   "metadata": {},
   "outputs": [
    {
     "name": "stdout",
     "output_type": "stream",
     "text": [
      "KstestResult(statistic=0.0023400000000000087, pvalue=0.9465052646604004)\n"
     ]
    }
   ],
   "source": [
    "# Realizamos el test ks\n",
    "print(scipy.stats.kstest(expNumsA,expNumsB))"
   ]
  },
  {
   "cell_type": "markdown",
   "metadata": {},
   "source": [
    "Vemos que la máxima distancia es muy pequeña y el p-value bastante alto, por lo que inferimos que ambas muestras provienen de distribuciones similares, lo cual se respalda aún más visualizando los histogramas."
   ]
  },
  {
   "cell_type": "markdown",
   "metadata": {},
   "source": [
    "#### **Ejercicio 6:**\n",
    "Escoja una distribución de probabilidad discreta.\n",
    "1. Utilice un método predefinido en Python para generar una secuencia de valores pseudo-aleatorios provenientes de dicha distribución\n",
    "2. Genere una secuencia considerando el algoritmo de la transformada inversa.\n",
    "3. Grafique en histogramas y compare las secuencias en (1) y (2). ¿Qué test sería adecuado utilizar en este caso?"
   ]
  },
  {
   "cell_type": "markdown",
   "metadata": {},
   "source": [
    "### Utilizando una distribución Bernoulli"
   ]
  },
  {
   "cell_type": "code",
   "execution_count": 63,
   "metadata": {},
   "outputs": [],
   "source": [
    "# Probabilidad\n",
    "p = 0.4\n",
    "\n",
    "# Generamos secuencia con scipy\n",
    "berNumsA = scipy.stats.bernoulli.rvs(p, size=m)\n",
    "\n",
    "# CDF inversa bernoulli\n",
    "def berRandom(y,p):\n",
    "    if y > p:\n",
    "        return 0\n",
    "    else:\n",
    "        return 1\n",
    "    \n",
    "# Generamos secuencia manualmente\n",
    "berNumsB = [berRandom(rand.uniform(0, 1),p) for i in range(m)]"
   ]
  },
  {
   "cell_type": "code",
   "execution_count": 64,
   "metadata": {},
   "outputs": [
    {
     "data": {
      "text/plain": [
       "(array([60041., 39959.]),\n",
       " array([0. , 0.5, 1. ]),\n",
       " <BarContainer object of 2 artists>)"
      ]
     },
     "execution_count": 64,
     "metadata": {},
     "output_type": "execute_result"
    },
    {
     "data": {
      "image/png": "[encoded data removed]",
      "text/plain": [
       "<Figure size 640x480 with 1 Axes>"
      ]
     },
     "metadata": {
      "needs_background": "light"
     },
     "output_type": "display_data"
    }
   ],
   "source": [
    "fig, ax = plt.subplots(1, 1, figsize=(8, 6), dpi=80)\n",
    "ax.hist(berNumsB, color = '#0000FF77', bins = 2)\n",
    "ax.hist(berNumsA, color = '#FF000044', edgecolor = 'black', bins = 2)"
   ]
  },
  {
   "cell_type": "markdown",
   "metadata": {},
   "source": [
    "De los histogramas podemos notar que ambas muestras se distibuyen pácticamente igual. Respecto a la prueba, pese a que el test de ks no es utilizado para comparar una muestra con distribuciones teóricas discretas, en este caso si es de utilidad ya que estamos comparando dos muestras."
   ]
  },
  {
   "cell_type": "code",
   "execution_count": 68,
   "metadata": {},
   "outputs": [
    {
     "name": "stdout",
     "output_type": "stream",
     "text": [
      "KstestResult(statistic=0.00024000000000001798, pvalue=1.0)\n"
     ]
    }
   ],
   "source": [
    "# Realizamos el test ks\n",
    "print(scipy.stats.kstest(berNumsA,berNumsB))"
   ]
  },
  {
   "cell_type": "markdown",
   "metadata": {},
   "source": [
    "Nuevamente los resultados de la prueba refuerzan lo observado en los histogramas, con un p-value igual a 1 no rechazamos la hipótesis nula (que las muestras provengan de la misma distribución)."
   ]
  },
  {
   "cell_type": "markdown",
   "metadata": {},
   "source": [
    "**Referencias:**\n",
    "    \n",
    "- Generating Random Data in Python (Guide): https://realpython.com/python-random/\n",
    "\n",
    "- Generación de números pseudo-aleatorios: https://www.youtube.com/watch?v=C82JyCmtKWg"
   ]
  }
 ],
 "metadata": {
  "kernelspec": {
   "display_name": "Python 3 (ipykernel)",
   "language": "python",
   "name": "python3"
  },
  "language_info": {
   "codemirror_mode": {
    "name": "ipython",
    "version": 3
   },
   "file_extension": ".py",
   "mimetype": "text/x-python",
   "name": "python",
   "nbconvert_exporter": "python",
   "pygments_lexer": "ipython3",
   "version": "3.8.2"
  }
 },
 "nbformat": 4,
 "nbformat_minor": 2
}
