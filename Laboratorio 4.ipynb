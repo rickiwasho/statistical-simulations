{
 "cells": [
  {
   "cell_type": "markdown",
   "metadata": {},
   "source": [
    "# SIMULACIÓN | LABORATORIO 4\n"
   ]
  },
  {
   "cell_type": "markdown",
   "metadata": {},
   "source": [
    "## Generación de número pseudo-aleatorios"
   ]
  },
  {
   "cell_type": "code",
   "execution_count": null,
   "metadata": {},
   "outputs": [],
   "source": [
    "import numpy as np\n",
    "import matplotlib.pyplot as plt\n",
    "import pandas as pd\n",
    "import seaborn as sns\n",
    "import scipy \n",
    "from IPython.display import display\n",
    "import ipywidgets as widgets\n",
    "import random"
   ]
  },
  {
   "cell_type": "markdown",
   "metadata": {},
   "source": [
    "### El módulo Random de python \n"
   ]
  },
  {
   "cell_type": "markdown",
   "metadata": {},
   "source": [
    "**Ejercicio 1:**\n",
    "- Defina lo que es una semilla y para qué sirve\n",
    "- use random.random() para generar números aleatorios. \n",
    "- use una semilla con random.seed(semilla), y vuelva a ejecutar random.random()\n",
    "- ¿qué ocurre si vuelve a definir la misma semilla y ejecutar random.random()?"
   ]
  },
  {
   "cell_type": "markdown",
   "metadata": {},
   "source": [
    "Una semilla es el valor inicial al que se le aplicará recurrentemente una función para ir obteniendo números pseudo-aleatorios. Sirve para darle un punto de partida a la generación de números pseudo-aleatorios. Se supone que debe ser distinta cada vez que se inicia una secuencia, ya que si la semilla es igual a la utilizada en una secuencia anterior, los términos de las secuencias serán los mismos."
   ]
  },
  {
   "cell_type": "code",
   "execution_count": null,
   "metadata": {},
   "outputs": [],
   "source": [
    "random.seed(None) # default: se usa el reloj del sistema como seed \n",
    "\n",
    "u = [] # arreglo que contendrá los números aleatorios\n",
    "\n",
    "for i in range(5):\n",
    "    u_sub_i = random.random() # genera el siguiente número en la secuencia\n",
    "    u.append(u_sub_i)\n",
    "\n",
    "print(u)"
   ]
  },
  {
   "cell_type": "code",
   "execution_count": null,
   "metadata": {},
   "outputs": [],
   "source": [
    "random.seed(420)\n",
    "u1 = []\n",
    "\n",
    "for i in range(5):\n",
    "    u1.append(random.random())\n",
    "    \n",
    "# generamos otro arreglo volviendo a definir la misma semilla\n",
    "\n",
    "random.seed(420)\n",
    "u2 = []\n",
    "\n",
    "for i in range(5):\n",
    "    u2.append(random.random())\n",
    "\n",
    "print(u1)\n",
    "print(u2)\n",
    "print(np.array_equiv(u1, u2))"
   ]
  },
  {
   "cell_type": "markdown",
   "metadata": {},
   "source": [
    "Vemos que si definimos la misma semilla, los términos generados son los mismos."
   ]
  },
  {
   "cell_type": "markdown",
   "metadata": {},
   "source": [
    "**Ejercicio 2:**\n",
    "Pruebe las funciones y defina sus diferencias:\n",
    "\n",
    "    - random.randint(a, b)\n",
    "    - random.randrange(a, b)\n",
    "    - random.uniform(a, b)\n",
    "    "
   ]
  },
  {
   "cell_type": "code",
   "execution_count": null,
   "metadata": {},
   "outputs": [],
   "source": [
    "a = 5\n",
    "b = 10\n",
    "\n",
    "n = 20 # largo de los arreglos a generar\n",
    "\n",
    "r1 = [random.randint(a, b) for i in range(n)]\n",
    "r2 = [random.randrange(a, b) for i in range(n)]\n",
    "r3 = [random.uniform(a, b) for i in range(n)]"
   ]
  },
  {
   "cell_type": "code",
   "execution_count": null,
   "metadata": {},
   "outputs": [],
   "source": [
    "print(r1)"
   ]
  },
  {
   "cell_type": "code",
   "execution_count": null,
   "metadata": {},
   "outputs": [],
   "source": [
    "print(r2)"
   ]
  },
  {
   "cell_type": "code",
   "execution_count": null,
   "metadata": {},
   "outputs": [],
   "source": [
    "print(r3)"
   ]
  },
  {
   "cell_type": "markdown",
   "metadata": {},
   "source": [
    "`randint` y `randrange` generan solo números enteros. `uniform` genera números de punto flotante.\n",
    "\n",
    "A simple vista, notamos que en el caso de `randint`, `b` es un posible valor a generar, mientras que en randrange, no es posible generar `b`, sino que todos los números generados son menor estricto que b. `a` es posible en ambas funciones.\n",
    "\n",
    "Además, viendo la documentación, notamos que randrange nos permite definir \"saltos\" en nuestro espacio muestral (por ejemplo, que solo sea posible generar números pares)"
   ]
  },
  {
   "cell_type": "markdown",
   "metadata": {},
   "source": [
    "### Clase NotSoRandom:"
   ]
  },
  {
   "cell_type": "code",
   "execution_count": null,
   "metadata": {},
   "outputs": [],
   "source": [
    "class NotSoRandom(object):\n",
    "    def seed(self, a=3):\n",
    "        \"\"\"Seed the world's most mysterious random number generator.\"\"\"\n",
    "        self.seedval = a\n",
    "    def random(self):\n",
    "        \"\"\"Look, random numbers!\"\"\"\n",
    "        self.seedval = (self.seedval * 3) % 19\n",
    "        return self.seedval\n",
    "\n",
    "_inst = NotSoRandom()\n",
    "seed = _inst.seed\n",
    "random = _inst.random\n"
   ]
  },
  {
   "cell_type": "markdown",
   "metadata": {},
   "source": [
    "**Ejercicio 3:**\n",
    "- use la semilla 1234 y genere números aleatorios hasta que se cumpla un ciclo completo. ¿Cuál resultó ser el periodo?\n",
    "- Intente con otra semilla y busque completar un ciclo. "
   ]
  },
  {
   "cell_type": "markdown",
   "metadata": {},
   "source": [
    "#### **Ejercicio 4:**\n",
    "En este ejercicio vamos a comparar el generador de la biblioteca Random de Python con el generador de números pseudo-aleatorios congruencial lineal descrito en la sesión téórica. Para ello se pide lo siguiente:\n",
    "1. Programe el generador de números pseudo-aleatorios congruencial lineal \n",
    "2. Extraiga secuencias del generador programado y del predefinido en Python, grafique en histogramas, compare y concluya.\n"
   ]
  },
  {
   "cell_type": "markdown",
   "metadata": {},
   "source": [
    "#### **Ejercicio 5:**\n",
    "Escoja una distribución de probabilidad continua.\n",
    "1. Utilice un método predefinido en Python para generar una secuencia de valores pseudo-aleatorios provenientes de dicha distribución\n",
    "2. Genere una secuencia considerando el algoritmo de la transformada inversa.\n",
    "3. Grafique en histogramas y compare las secuencias en (1) y (2) utilizando el test de k-s"
   ]
  },
  {
   "cell_type": "markdown",
   "metadata": {},
   "source": [
    "#### **Ejercicio 6:**\n",
    "Escoja una distribución de probabilidad discreta.\n",
    "1. Utilice un método predefinido en Python para generar una secuencia de valores pseudo-aleatorios provenientes de dicha distribución\n",
    "2. Genere una secuencia considerando el algoritmo de la transformada inversa.\n",
    "3. Grafique en histogramas y compare las secuencias en (1) y (2). ¿Qué test sería adecuado utilizar en este caso?"
   ]
  },
  {
   "cell_type": "markdown",
   "metadata": {},
   "source": [
    "**Referencias:**\n",
    "    \n",
    "- Generating Random Data in Python (Guide): https://realpython.com/python-random/\n",
    "\n",
    "- Generación de números pseudo-aleatorios: https://www.youtube.com/watch?v=C82JyCmtKWg"
   ]
  },
  {
   "cell_type": "code",
   "execution_count": null,
   "metadata": {},
   "outputs": [],
   "source": []
  }
 ],
 "metadata": {
  "kernelspec": {
   "display_name": "Python 3 (ipykernel)",
   "language": "python",
   "name": "python3"
  },
  "language_info": {
   "codemirror_mode": {
    "name": "ipython",
    "version": 3
   },
   "file_extension": ".py",
   "mimetype": "text/x-python",
   "name": "python",
   "nbconvert_exporter": "python",
   "pygments_lexer": "ipython3",
   "version": "3.8.10"
  }
 },
 "nbformat": 4,
 "nbformat_minor": 2
}
