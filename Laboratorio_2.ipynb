{
  "nbformat": 4,
  "nbformat_minor": 0,
  "metadata": {
    "kernelspec": {
      "display_name": "Python 3",
      "language": "python",
      "name": "python3"
    },
    "language_info": {
      "codemirror_mode": {
        "name": "ipython",
        "version": 3
      },
      "file_extension": ".py",
      "mimetype": "text/x-python",
      "name": "python",
      "nbconvert_exporter": "python",
      "pygments_lexer": "ipython3",
      "version": "3.8.5"
    },
    "colab": {
      "name": "Copy of Laboratorio2.ipynb",
      "provenance": [],
      "collapsed_sections": []
    }
  },
  "cells": [
    {
      "cell_type": "markdown",
      "metadata": {
        "id": "didtBDAgRivK"
      },
      "source": [
        "# Laboratorio 2\n",
        "### Entrega: martes 31 de agosto 2021, 23:59 horas\n",
        "Integrantes:\n",
        "- Ricardo Coronado\n",
        "- Eduardo Hopperdietzel\n",
        "- Diego Sandoval\n"
      ]
    },
    {
      "cell_type": "markdown",
      "metadata": {
        "id": "cs9fe8DIRivP"
      },
      "source": [
        "## Algunas Variables Aleatorias Especiales\n",
        "En este laboratorio revisaremos algunos tipos de variables aleatorias especiales, definidas por que tienen  distribuciones de probabilidad conocidas. Trabajaremos tanto con v.a. discretas como continuas, y calcularemos y graficaremos las probabilidades teóricas (probabilidaes puntutales, funciones de  densidad y de distribución de probabilidad) y luego las vamos a comparar con datos obtenidos por simulación."
      ]
    },
    {
      "cell_type": "markdown",
      "metadata": {
        "id": "DmHWlI3jRivR"
      },
      "source": [
        "### Estadísticos asociados\n",
        "1. Por posición:  tendencia central y no central\n",
        "   percentiles, media, moda\n",
        "\n",
        "2. Por dispersión: \n",
        "    Varianza, desviación estándar\n",
        "\n",
        "3. Por forma: \n",
        "    asimetría, curtosis. \n",
        "    \n",
        "   $$\\text{ Asimetría (skewness) }= \\frac{E[(X-\\mu)^3]}{\\sigma^3}$$\n",
        "   $$\\text{ Curtosis }= \\frac{E[(X-\\mu)^4]}{\\sigma^4} - 3$$"
      ]
    },
    {
      "cell_type": "code",
      "metadata": {
        "id": "74fTQ2X4RivS"
      },
      "source": [
        "# Pandas and numpy for data manipulation\n",
        "import pandas as pd\n",
        "import numpy as np\n",
        "import scipy.stats as stats\n",
        "import math\n",
        "\n",
        "# Matplotlib and seaborn for plotting\n",
        "import matplotlib.pyplot as plt\n",
        "import matplotlib\n",
        "%matplotlib inline\n",
        "\n",
        "matplotlib.rcParams['font.size'] = 18\n",
        "matplotlib.rcParams['figure.dpi'] = 200\n",
        "\n",
        "from IPython.core.pylabtools import figsize\n",
        "import random\n"
      ],
      "execution_count": null,
      "outputs": []
    },
    {
      "cell_type": "markdown",
      "metadata": {
        "id": "wuVI40uCRivU"
      },
      "source": [
        "#### Distribución Bernoulli\n",
        "Suponga que se realiza un ensayo cuya salida es \"éxito\" o \"falla\". La v.a. entonces tiene sólo dos valores posibles: 1 si \"éxito\" 0 si no. Si $p$ es la probabilidad de éxito, entonces:\n",
        "\n",
        "$\\begin{equation}\n",
        "\\begin{array}{lll} \n",
        "P(X=1) & = &p \\qquad y \\qquad P(X=0) = 1-p \\\\\n",
        "P(X = i) & = & p^i (1-p)^{1-i} \\,, i=0,1\\\\\n",
        "E[X] & = & 1*p + 0*p = p\\\\\n",
        "E[X^2] & = & 1*p + 0*p = p\\\\\n",
        "Var(X) & = & E[X^2] - (E[X])^2 = p - p^2 = p(1-p)\\\\\n",
        "\\end{array}\n",
        "\\end{equation}$\n"
      ]
    },
    {
      "cell_type": "markdown",
      "metadata": {
        "id": "KOKsSWCDRivU"
      },
      "source": [
        "#### Distribución Binomial\n",
        "Suponga que se realizan $N$  ensayos independientes idénticos  Bernoulli  de parámetro $p$. La v.a. X que representa el número $k$ de ensayos existosos entre los $N$ ensayos realizados, se denomina Binomial y cumple:\n",
        "\n",
        "$\\begin{equation}\n",
        "\\begin{array}{lll} \n",
        "P(X=k) & = & {N \\choose k} p^k (1-p)^{N-k}, \\qquad k=0,1,...N \\\\\n",
        "E[X] & = & Np\\\\\n",
        "Var(X) & = & Np(1-p)\\\\\n",
        "Simetria(X) & = & \\frac{1-2p}{\\sqrt{np(1-p)}}\\\\\n",
        "Curtosis(X) & = & \\frac{1-6p(1-p)}{np(1-p)}\\\\\n",
        "\\end{array}\n",
        "\\end{equation}$"
      ]
    },
    {
      "cell_type": "markdown",
      "metadata": {
        "id": "SzgKZzqsRivW"
      },
      "source": [
        "### Simulación Variable Aleatoria con Distribución Binomial\n",
        "En esta sección utilizaremos la función generadora de valores aleatorios para la distribución binomial, y se compara la distribución empírica con la distribución teórica"
      ]
    },
    {
      "cell_type": "code",
      "metadata": {
        "id": "VY6W8Q0RRivW",
        "colab": {
          "base_uri": "https://localhost:8080/",
          "height": 292
        },
        "outputId": "98b42c68-40f2-46a7-fc18-0481ee6dd8f3"
      },
      "source": [
        "## simulación de size valores v.a. binomial\n",
        "size=100\n",
        "n=50\n",
        "p=0.2\n",
        "datos_bin =stats.binom.rvs(n=n, p=p, size=size)\n",
        "\n",
        "binwidth = 4\n",
        "fig, ax = plt.subplots(1, 1, figsize=(6, 4), dpi=80)\n",
        "ax.hist(datos_bin, color = 'blue', edgecolor = 'black', bins = int(50/binwidth))\n",
        "## probabilidad teórica\n",
        "ax2 = ax.twinx()\n",
        "vec = list(range(n+1))\n",
        "##\n",
        "pvec = []\n",
        "for i in vec:\n",
        "    pvec.append(stats.binom.pmf(k=i, n=n, p=p))\n",
        "ax2.plot(vec,pvec)\n",
        "plt.draw()\n"
      ],
      "execution_count": null,
      "outputs": [
        {
          "output_type": "display_data",
          "data": {
            "image/png": "[encoded data removed]",
            "text/plain": [
              "<Figure size 480x320 with 2 Axes>"
            ]
          },
          "metadata": {
            "needs_background": "light"
          }
        }
      ]
    },
    {
      "cell_type": "code",
      "metadata": {
        "colab": {
          "base_uri": "https://localhost:8080/"
        },
        "id": "kuyEiFswTWlX",
        "outputId": "6c65e8b9-947c-4631-b1dd-7c0d741a9233"
      },
      "source": [
        "print(datos_bin.shape)"
      ],
      "execution_count": null,
      "outputs": [
        {
          "output_type": "stream",
          "text": [
            "(23825,)\n"
          ],
          "name": "stdout"
        }
      ]
    },
    {
      "cell_type": "code",
      "metadata": {
        "id": "py8tkk21RivY",
        "colab": {
          "base_uri": "https://localhost:8080/",
          "height": 292
        },
        "outputId": "3bfcc62d-7a4e-4f84-955f-de36f1d33209"
      },
      "source": [
        "## gráfica de la distribución empírica acumulada\n",
        "def ecdf(data):\n",
        "    \"\"\" Calcula la distribución empírica acumulada\"\"\"\n",
        "    x = np.sort(data)\n",
        "    n = x.size\n",
        "    y = np.arange(1, n+1) / n\n",
        "    return(x,y)\n",
        "\n",
        "fig, ax = plt.subplots(1, 1,figsize=(6, 4), dpi=80)\n",
        "\n",
        "x,cum_bin = ecdf(datos_bin)\n",
        "ax.bar(x,cum_bin)\n",
        "## probabilidad teórica\n",
        "ax2 = ax.twinx()\n",
        "vec = list(range(51))\n",
        "##\n",
        "pvec = []\n",
        "for i in vec:\n",
        "    pvec.append(stats.binom.cdf(k=i, n=n, p=p))\n",
        "ax2.plot(vec,pvec)\n",
        "plt.draw()\n"
      ],
      "execution_count": null,
      "outputs": [
        {
          "output_type": "display_data",
          "data": {
            "image/png": "[encoded data removed]",
            "text/plain": [
              "<Figure size 480x320 with 2 Axes>"
            ]
          },
          "metadata": {
            "needs_background": "light"
          }
        }
      ]
    },
    {
      "cell_type": "code",
      "metadata": {
        "id": "FYjq7zJHRivZ",
        "colab": {
          "base_uri": "https://localhost:8080/"
        },
        "outputId": "d9b02d8f-433d-4117-da80-a4b4fdeb4cda"
      },
      "source": [
        "## Cálculo de esperanza y varianza empírica y teórica\n",
        "promedio = sum(datos_bin)/size\n",
        "var_emp = sum((datos_bin - promedio)*(datos_bin-promedio))/size\n",
        "asim = stats.skew(datos_bin)\n",
        "curtos = stats.kurtosis(datos_bin)\n",
        "print('esperanza empírica:',promedio,' teórica: ',n*p)\n",
        "print('varianza empírica:',var_emp,' teórica: ', n*p*(1-p))\n",
        "print('asimetría empírica:', asim, 'teórica: ',(1-2*p)/(math.sqrt(n*p*(1-p))))\n",
        "print('curtosis empírico: ', curtos, 'teórico: ',(1-6*p*(1-p))/(n*p*(1-p)))"
      ],
      "execution_count": null,
      "outputs": [
        {
          "output_type": "stream",
          "text": [
            "esperanza empírica: 9.66  teórica:  10.0\n",
            "varianza empírica: 5.964399999999997  teórica:  8.0\n",
            "asimetría empírica: -0.07668424414882587 teórica:  0.21213203435596423\n",
            "curtosis empírico:  -0.515870281974975 teórico:  0.004999999999999977\n"
          ],
          "name": "stdout"
        }
      ]
    },
    {
      "cell_type": "markdown",
      "metadata": {
        "id": "mM3jIbB6RivZ"
      },
      "source": [
        "#### Ejercicio 1: \n",
        "1) ¿Cuántas simulaciones es necesario hacer para acercarse a los valores teóricos?\n",
        "\n",
        "| Esperanza teórica | Varianza teórica | Asimetria teórica | Curtosis teórica |\n",
        "| --- | --- | --- | --- |\n",
        "| 10.0 | 8.0 | 0.2121 | 0.0049 |\n",
        "\n",
        "\n",
        "\n",
        "| Size | Esperanza empírica | Varianza empírica | Asimetria empírica | Curtosis empírica |\n",
        "| --- | --- | --- | --- | ---| \n",
        "| 100 | 9.81 | 8.6339 | 0.3877 | -0.607 |\n",
        "| 1000 | 10.011 | 7.7848 | 0.2433 | -0.082 |\n",
        "| 5000 | 9.9806 | 7.9198 | 0.1817 | -0.105 |\n",
        "| 10000 | 9.982 | 8.0736 | 0.1927 | 0.0042 |\n",
        "\n",
        "2) Cambie los valores de los parámetros y analice si hay cambios en su respuesta en (1)"
      ]
    },
    {
      "cell_type": "code",
      "metadata": {
        "colab": {
          "base_uri": "https://localhost:8080/"
        },
        "id": "l9Firf0WcwTc",
        "outputId": "1c841b23-5ccd-440f-e99a-f7f504ba390d"
      },
      "source": [
        "def percenDiff(a,b):\n",
        "  return ((b/a) * 100) - 100\n",
        "\n",
        "def getData(datos_bin):\n",
        "  promedio = sum(datos_bin)/size\n",
        "  var_emp = sum((datos_bin - promedio)*(datos_bin-promedio))/size\n",
        "  asim = stats.skew(datos_bin)\n",
        "  curtos = stats.kurtosis(datos_bin)\n",
        "  print('esperanza empírica:',promedio,' ; teórica: ',n*p, '#### diff%: ', percenDiff(promedio, n*p))\n",
        "  print('varianza empírica:',var_emp,' ; teórica: ', n*p*(1-p), '### diff%: ', percenDiff(var_emp, n*p*(1-p)))\n",
        "  print('asimetría empírica:', asim, ' ; teórica: ',(1-2*p)/(math.sqrt(n*p*(1-p))), '### diff%: ', percenDiff(asim, (1-2*p)/(math.sqrt(n*p*(1-p)))))\n",
        "  print('curtosis empírico: ', curtos, ' ; teórico: ',(1-6*p*(1-p))/(n*p*(1-p)), '   ### diff%: ', percenDiff(curtos, (1-6*p*(1-p))/(n*p*(1-p))))\n",
        "  print(\"\")\n",
        "\n",
        "for i in range(10):\n",
        "  size = random.randint(1000, 100000)\n",
        "  n = random.randint(1, 1000)\n",
        "  p = random.uniform(0, 1)\n",
        "  datos_bin =stats.binom.rvs(n=n, p=p, size=size)\n",
        "  print(\"Size:\", size, \"; n:\", n, \"; p:\", p)\n",
        "  getData(datos_bin)\n"
      ],
      "execution_count": null,
      "outputs": [
        {
          "output_type": "stream",
          "text": [
            "Size: 40376 ; n: 562 ; p: 0.14521333909154932\n",
            "esperanza empírica: 81.57821478105805  ; teórica:  81.60989656945071 #### diff%:  0.03883608936243377\n",
            "varianza empírica: 70.27761535866301  ; teórica:  69.7590509856848 ### diff%:  -0.7378798644941469\n",
            "asimetría empírica: 0.06510507609517338  ; teórica:  0.08495657524213822 ### diff%:  30.491476759730773\n",
            "curtosis empírico:  -0.013376805870329633  ; teórico:  0.0036589008156631283    ### diff%:  -127.35257468136498\n",
            "\n",
            "Size: 24550 ; n: 703 ; p: 0.7445235833856494\n",
            "esperanza empírica: 523.4626883910387  ; teórica:  523.4000791201115 #### diff%:  -0.011960598590050608\n",
            "varianza empírica: 132.07532882140777  ; teórica:  133.71637666927367 ### diff%:  1.2425090003636683\n",
            "asimetría empírica: -0.037677577705107136  ; teórica:  -0.04229202178571998 ### diff%:  12.247188810089995\n",
            "curtosis empírico:  -0.05187202461101936  ; teórico:  -0.0010563351066474544    ### diff%:  -97.96357455763727\n",
            "\n",
            "Size: 59856 ; n: 210 ; p: 0.5196706782396058\n",
            "esperanza empírica: 109.15457097032879  ; teórica:  109.13084243031722 #### diff%:  -0.021738475815197944\n",
            "varianza empírica: 52.27592738209049  ; teórica:  52.41874352769472 ### diff%:  0.2731967709733283\n",
            "asimetría empírica: -0.036556443892474394  ; teórica:  -0.005433829745334296 ### diff%:  -85.13578136506621\n",
            "curtosis empírico:  -0.019233710158191197  ; teórico:  -0.009494283018108243    ### diff%:  -50.637277259453526\n",
            "\n",
            "Size: 51058 ; n: 939 ; p: 0.289983776905419\n",
            "esperanza empírica: 272.33132907673627  ; teórica:  272.29476651418844 #### diff%:  -0.013425764370111892\n",
            "varianza empírica: 194.03059081844395  ; teórica:  193.33370168882487 ### diff%:  -0.35916456610245007\n",
            "asimetría empírica: 0.031804131838457726  ; teórica:  0.03020849272921472 ### diff%:  -5.017081168408282\n",
            "curtosis empírico:  0.021396972978446005  ; teórico:  -0.0012173724196381398    ### diff%:  -105.68946093853765\n",
            "\n",
            "Size: 51200 ; n: 16 ; p: 0.07625907205171834\n",
            "esperanza empírica: 1.2183984375  ; teórica:  1.2201451528274934 #### diff%:  0.14336158630318607\n",
            "varianza empírica: 1.1254271224982688  ; teórica:  1.1270980157044668 ### diff%:  0.14846747273060146\n",
            "asimetría empírica: 0.8096191359549629  ; teórica:  0.7982695554429198 ### diff%:  -1.401841928878838\n",
            "curtosis empírico:  0.5381429106920184  ; teórico:  0.5122342831470367    ### diff%:  -4.814451148611212\n",
            "\n",
            "Size: 20361 ; n: 507 ; p: 0.7913636019148805\n",
            "esperanza empírica: 401.33662393792054  ; teórica:  401.2213461708444 #### diff%:  -0.028723460606457252\n",
            "varianza empírica: 83.93599427972548  ; teórica:  83.70937649994782 ### diff%:  -0.2699887952985023\n",
            "asimetría empírica: -0.049905687547434935  ; teórica:  -0.06369102518447467 ### diff%:  27.62277871422347\n",
            "curtosis empírico:  -0.0413025741448223  ; teórico:  0.00011177351350698139    ### diff%:  -100.27062117996583\n",
            "\n",
            "Size: 79014 ; n: 67 ; p: 0.6073883895147905\n",
            "esperanza empírica: 40.710266535044425  ; teórica:  40.69502209749096 #### diff%:  -0.037446174763658746\n",
            "varianza empírica: 16.053131492981493  ; teórica:  15.977338164427117 ### diff%:  -0.4721404580004389\n",
            "asimetría empírica: -0.04699906551634789  ; teórica:  -0.05373226048003168 ### diff%:  14.326231574416639\n",
            "curtosis empírico:  -0.05109705134887621  ; teórico:  -0.026963590452362737    ### diff%:  -47.23063319590993\n",
            "\n",
            "Size: 97622 ; n: 78 ; p: 0.015177888516751392\n",
            "esperanza empírica: 1.1853782958759296  ; teórica:  1.1838753043066086 #### diff%:  -0.1267942541676348\n",
            "varianza empírica: 1.1604782628868076  ; teórica:  1.1659065769201078 ### diff%:  0.4677652487687851\n",
            "asimetría empírica: 0.9030425362485751  ; teórica:  0.898008687710499 ### diff%:  -0.5574320517600029\n",
            "curtosis empírico:  0.8495028023274784  ; teórico:  0.7807785775625069    ### diff%:  -8.089935027486675\n",
            "\n",
            "Size: 92487 ; n: 224 ; p: 0.07756041927406421\n",
            "esperanza empírica: 17.370884556748518  ; teórica:  17.373533917390382 #### diff%:  0.015251731327836637\n",
            "varianza empírica: 16.176067100611885  ; teórica:  16.02603534248541 ### diff%:  -0.9274921845545521\n",
            "asimetría empírica: 0.21565382515595607  ; teórica:  0.21104815044316003 ### diff%:  -2.1356795825278425\n",
            "curtosis empírico:  0.03188907271639918  ; teórico:  0.03561275037690727    ### diff%:  11.676970646415683\n",
            "\n",
            "Size: 23825 ; n: 393 ; p: 0.5940006053496937\n",
            "esperanza empírica: 233.51613850996853  ; teórica:  233.4422379024296 #### diff%:  -0.03164689516127339\n",
            "varianza empírica: 95.72785077619938  ; teórica:  94.77740727419922 ### diff%:  -0.99285996112269\n",
            "asimetría empírica: -0.022636102768636014  ; teórica:  -0.01931115430473812 ### diff%:  -14.688696627163466\n",
            "curtosis empírico:  -3.45913897277228e-05  ; teórico:  -0.004716137843591622    ### diff%:  13533.849003215786\n",
            "\n"
          ],
          "name": "stdout"
        }
      ]
    },
    {
      "cell_type": "markdown",
      "metadata": {
        "id": "IrV9MhkLRivZ"
      },
      "source": [
        "#### Ejercicio 2: \n",
        "Realice un desarrollo similar al caso de la Distribución Binomial para el caso de una variable aleatoria con Distribución de Probabilidad Poisson"
      ]
    },
    {
      "cell_type": "code",
      "metadata": {
        "id": "2xlKFCwIbfd2",
        "colab": {
          "base_uri": "https://localhost:8080/",
          "height": 292
        },
        "outputId": "5db794d2-5a24-40a7-ebc1-1ab629083285"
      },
      "source": [
        "## simulación de size valores v.a. poisson\n",
        "size = 100\n",
        "mu = 20\n",
        "datos_poisson =stats.poisson.rvs(mu=mu, size=size) \n",
        "binwidth = 4\n",
        "fig, ax = plt.subplots(1, 1, figsize=(6, 4), dpi=80)\n",
        "ax.hist(datos_poisson, color = 'blue', edgecolor = 'black', bins = int(40/binwidth))\n",
        "## probabilidad teórica\n",
        "ax2 = ax.twinx()\n",
        "\n",
        "vec = list(range(40))\n",
        "##\n",
        "\n",
        "pvec = []\n",
        "for i in vec:\n",
        "    pvec.append(stats.poisson.pmf(k=i, mu=mu))\n",
        "ax2.plot(vec,pvec)\n",
        "plt.draw()"
      ],
      "execution_count": null,
      "outputs": [
        {
          "output_type": "display_data",
          "data": {
            "image/png": "[encoded data removed]",
            "text/plain": [
              "<Figure size 480x320 with 2 Axes>"
            ]
          },
          "metadata": {
            "needs_background": "light"
          }
        }
      ]
    },
    {
      "cell_type": "code",
      "metadata": {
        "id": "0BjA4u0nZzNv",
        "colab": {
          "base_uri": "https://localhost:8080/",
          "height": 292
        },
        "outputId": "d45afd55-44b0-44ba-bc77-3efe1e51cdb7"
      },
      "source": [
        "fig, ax = plt.subplots(1, 1,figsize=(6, 4), dpi=80)\n",
        "\n",
        "x, cum_poisson = ecdf(np.reshape(datos_poisson, -1)) # no tenemos claro por qué es necesario ese reshape\n",
        "ax.bar(x,cum_poisson)\n",
        "\n",
        "## probabilidad teórica\n",
        "ax2 = ax.twinx()\n",
        "vec = list(range(100))\n",
        "##\n",
        "pvec = []\n",
        "for i in vec:\n",
        "    pvec.append(stats.poisson.cdf(k=i, mu=mu))\n",
        "ax2.plot(vec,pvec)\n",
        "plt.draw()\n"
      ],
      "execution_count": null,
      "outputs": [
        {
          "output_type": "display_data",
          "data": {
            "image/png": "[encoded data removed]",
            "text/plain": [
              "<Figure size 480x320 with 2 Axes>"
            ]
          },
          "metadata": {
            "needs_background": "light"
          }
        }
      ]
    },
    {
      "cell_type": "code",
      "metadata": {
        "colab": {
          "base_uri": "https://localhost:8080/"
        },
        "id": "1jgLRt-OM1lo",
        "outputId": "4284c180-df0b-485b-a628-deaa6d69d3c0"
      },
      "source": [
        "## Cálculo de esperanza y varianza empírica y teórica\n",
        "promedio = sum(datos_poisson)/size\n",
        "var_emp = sum((datos_poisson - promedio)*(datos_poisson-promedio))/size\n",
        "asim = stats.skew(datos_poisson)\n",
        "curtos = stats.kurtosis(datos_poisson)\n",
        "\n",
        "mean, var, skew, kurt = stats.poisson.stats(mu, moments='mvsk')\n",
        "\n",
        "\n",
        "print('esperanza empírica:',promedio,' teórica: ', mean)\n",
        "print('varianza empírica:',var_emp,' teórica: ', var)\n",
        "print('asimetría empírica:', asim, 'teórica: ', skew)\n",
        "print('curtosis empírico: ', curtos, 'teórico: ', kurt)"
      ],
      "execution_count": null,
      "outputs": [
        {
          "output_type": "stream",
          "text": [
            "esperanza empírica: 19.87  teórica:  20.0\n",
            "varianza empírica: 19.43310000000002  teórica:  20.0\n",
            "asimetría empírica: -0.011776938604697635 teórica:  0.22360679774997896\n",
            "curtosis empírico:  0.9333053417394104 teórico:  0.05\n"
          ],
          "name": "stdout"
        }
      ]
    },
    {
      "cell_type": "markdown",
      "metadata": {
        "id": "__TxS3SZRiva"
      },
      "source": [
        "#### Distribución Normal o Gaussiana\n",
        "Sea $X$ v.a. continua, es normal de media $\\mu$ y varianza $\\sigma^2$ y se denota $\\cal{N}(\\mu,\\sigma^2)$ si su densidad de probabilidad cumple:\n",
        "\n",
        "\n",
        "$\\begin{equation}\n",
        "\\begin{array}{lll} \n",
        "f_X(x) & = & \\frac{1}{\\sqrt{2\\pi}\\sigma} exp(\\frac{-(x-\\mu)^2}{2\\sigma^2})\\qquad, -\\infty < x <\\infty\\\\\n",
        "E[X] &= &\\mu\\\\\n",
        "Var(X)& =& \\sigma^2\\\\\n",
        "\\end{array}\n",
        "\\end{equation}$\n",
        "\n",
        "Esta es la distribución de probabilidad mas utilizada. Muchas variables se distribuyen aproximadamente normales (altura, peso, satisfacción en el trabajo, etc.). \n",
        "\n",
        "Permite modelar los errores o ruidos.\n",
        "\n",
        "¿Cómo se verifica que una v.a. sigue una distribución normal?\n",
        "\n",
        "Test de normalidad de Shapiro-Wilk, Q-Q plot\n"
      ]
    },
    {
      "cell_type": "markdown",
      "metadata": {
        "id": "UX2x9ugORiva"
      },
      "source": [
        "### Simulación Variable Aleatoria con Distribución Normal\n",
        "En esta sección utilizaremos la función generadora de valores aleatorios para la distribución normal, y se compara la distribución empírica con la distribución teórica"
      ]
    },
    {
      "cell_type": "code",
      "metadata": {
        "id": "qyiiEeyqRiva"
      },
      "source": [
        "## simulación de size valores v.a. normal\n",
        "size=100\n",
        "mu=50\n",
        "sigma=10\n",
        "datos_norm =stats.norm.rvs(loc=mu, scale= sigma, size=size) \n",
        "binwidth = 4\n",
        "fig, ax = plt.subplots(1, 1,figsize=(6, 4), dpi=80)\n",
        "ax.hist(datos_norm, color = 'blue', edgecolor = 'black', bins = int(2*mu/binwidth))\n",
        "## probabilidad teórica\n",
        "ax2 = ax.twinx()\n",
        "vec = list(range(2*mu+1))\n",
        "##\n",
        "pvec = []\n",
        "for i in vec:\n",
        "    pvec.append(stats.norm.pdf(x=i, loc=mu, scale= sigma))\n",
        "ax2.plot(vec,pvec)\n",
        "plt.draw()\n"
      ],
      "execution_count": null,
      "outputs": []
    },
    {
      "cell_type": "code",
      "metadata": {
        "id": "wGlC0gofRivc"
      },
      "source": [
        "## gráfica de la distribución empírica acumulada\n",
        "def ecdf(data):\n",
        "    \"\"\" Calcula la distribución empírica acumulada\"\"\"\n",
        "    x = np.sort(data)\n",
        "    n = x.size\n",
        "    y = np.arange(1, n+1) / n\n",
        "    return(x,y)\n",
        "\n",
        "fig, ax = plt.subplots(1, 1,figsize=(6, 4), dpi=80)\n",
        "\n",
        "x,cum_norm = ecdf(datos_norm)\n",
        "ax.bar(x,cum_norm)\n",
        "## probabilidad teórica\n",
        "ax2 = ax.twinx()\n",
        "vec = list(range(2*mu+1))\n",
        "##\n",
        "pvec = []\n",
        "for i in vec:\n",
        "    pvec.append(stats.norm.cdf(x=i, loc=mu, scale=sigma))\n",
        "ax2.plot(vec,pvec)\n",
        "plt.draw()\n"
      ],
      "execution_count": null,
      "outputs": []
    },
    {
      "cell_type": "code",
      "metadata": {
        "id": "I6R2jF6oRivc"
      },
      "source": [
        "## Cálculo de esperanza y varianza empírica y teórica\n",
        "promedio = sum(datos_norm)/size\n",
        "var_emp = sum((datos_norm - promedio)*(datos_norm-promedio))/size\n",
        "asim = stats.skew(datos_norm)\n",
        "curtos = stats.kurtosis(datos_norm)\n",
        "print('esperanza empírica:',promedio,' teórica: ',mu)\n",
        "print('varianza empírica:',var_emp,' teórica: ', sigma*sigma)\n",
        "print('asimetría empírica:', asim, 'teórica: ',0)\n",
        "print('curtosis empírico: ', curtos, 'teórico: ',0)\n"
      ],
      "execution_count": null,
      "outputs": []
    },
    {
      "cell_type": "markdown",
      "metadata": {
        "id": "kDUfbbUnRivc"
      },
      "source": [
        "#### Ejercicio 3: \n",
        "1) ¿Cuántas simulaciones es necesario hacer para acercarse a los valores teóricos?\n",
        "\n",
        "2) Cambie los valores de los parámetros y analice si hay cambios en su respuesta en (1)"
      ]
    },
    {
      "cell_type": "markdown",
      "metadata": {
        "id": "Vw3wyoTsRivd"
      },
      "source": [
        "#### Ejercicio 4: \n",
        "Realice un desarrollo similar para el caso de una variable aleatoria continua distribuída chi-cuadrado de $k$ grados de libertad"
      ]
    },
    {
      "cell_type": "markdown",
      "metadata": {
        "id": "nPfaM9kbRivd"
      },
      "source": [
        "#### Ejercicio 5 (2 puntos):\n",
        "Utilice datos de sismicidad del Centro de Sismológico Nacional (http://evtdb.csn.uchile.cl/events), escoja dos  regiones geográficas en Chile (y la región del océano Pacífico contigua), con dimensiones de al menos 5 grados, tanto en longitud como latitud y grafique los histogramas de magnitud y profundidad de los eventos sísmicos significativos disponibles. Calcule parámetros empíricos para cada serie de datos.  Compare y concluya."
      ]
    },
    {
      "cell_type": "markdown",
      "metadata": {
        "id": "1LwwkyZrRivd"
      },
      "source": [
        "### Referencias\n",
        "\n",
        "https://github.com/WillKoehrsen/Data-Analysis/blob/master/univariate_dist/Histogram%20and%20Density%20Plot.ipynb\n"
      ]
    }
  ]
}