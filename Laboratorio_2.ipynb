{
 "cells": [
  {
   "cell_type": "markdown",
   "metadata": {
    "id": "didtBDAgRivK"
   },
   "source": [
    "# Laboratorio 2\n",
    "### Entrega: martes 31 de agosto 2021, 23:59 horas\n",
    "Integrantes:\n",
    "- Ricardo Coronado\n",
    "- Eduardo Hopperdietzel\n",
    "- Diego Sandoval\n"
   ]
  },
  {
   "cell_type": "markdown",
   "metadata": {
    "id": "cs9fe8DIRivP"
   },
   "source": [
    "## Algunas Variables Aleatorias Especiales\n",
    "En este laboratorio revisaremos algunos tipos de variables aleatorias especiales, definidas por que tienen  distribuciones de probabilidad conocidas. Trabajaremos tanto con v.a. discretas como continuas, y calcularemos y graficaremos las probabilidades teóricas (probabilidaes puntutales, funciones de  densidad y de distribución de probabilidad) y luego las vamos a comparar con datos obtenidos por simulación."
   ]
  },
  {
   "cell_type": "markdown",
   "metadata": {
    "id": "DmHWlI3jRivR"
   },
   "source": [
    "### Estadísticos asociados\n",
    "1. Por posición:  tendencia central y no central\n",
    "   percentiles, media, moda\n",
    "\n",
    "2. Por dispersión: \n",
    "    Varianza, desviación estándar\n",
    "\n",
    "3. Por forma: \n",
    "    asimetría, curtosis. \n",
    "    \n",
    "   $$\\text{ Asimetría (skewness) }= \\frac{E[(X-\\mu)^3]}{\\sigma^3}$$\n",
    "   $$\\text{ Curtosis }= \\frac{E[(X-\\mu)^4]}{\\sigma^4} - 3$$"
   ]
  },
  {
   "cell_type": "code",
   "execution_count": null,
   "metadata": {
    "id": "74fTQ2X4RivS"
   },
   "outputs": [],
   "source": [
    "# Pandas and numpy for data manipulation\n",
    "import pandas as pd\n",
    "import numpy as np\n",
    "import scipy.stats as stats\n",
    "import math\n",
    "\n",
    "# Matplotlib and seaborn for plotting\n",
    "import matplotlib.pyplot as plt\n",
    "import matplotlib\n",
    "%matplotlib inline\n",
    "\n",
    "matplotlib.rcParams['font.size'] = 18\n",
    "matplotlib.rcParams['figure.dpi'] = 200\n",
    "\n",
    "from IPython.core.pylabtools import figsize\n",
    "import random\n"
   ]
  },
  {
   "cell_type": "markdown",
   "metadata": {
    "id": "wuVI40uCRivU"
   },
   "source": [
    "#### Distribución Bernoulli\n",
    "Suponga que se realiza un ensayo cuya salida es \"éxito\" o \"falla\". La v.a. entonces tiene sólo dos valores posibles: 1 si \"éxito\" 0 si no. Si $p$ es la probabilidad de éxito, entonces:\n",
    "\n",
    "$\\begin{equation}\n",
    "\\begin{array}{lll} \n",
    "P(X=1) & = &p \\qquad y \\qquad P(X=0) = 1-p \\\\\n",
    "P(X = i) & = & p^i (1-p)^{1-i} \\,, i=0,1\\\\\n",
    "E[X] & = & 1*p + 0*p = p\\\\\n",
    "E[X^2] & = & 1*p + 0*p = p\\\\\n",
    "Var(X) & = & E[X^2] - (E[X])^2 = p - p^2 = p(1-p)\\\\\n",
    "\\end{array}\n",
    "\\end{equation}$\n"
   ]
  },
  {
   "cell_type": "markdown",
   "metadata": {
    "id": "KOKsSWCDRivU"
   },
   "source": [
    "#### Distribución Binomial\n",
    "Suponga que se realizan $N$  ensayos independientes idénticos  Bernoulli  de parámetro $p$. La v.a. X que representa el número $k$ de ensayos existosos entre los $N$ ensayos realizados, se denomina Binomial y cumple:\n",
    "\n",
    "$\\begin{equation}\n",
    "\\begin{array}{lll} \n",
    "P(X=k) & = & {N \\choose k} p^k (1-p)^{N-k}, \\qquad k=0,1,...N \\\\\n",
    "E[X] & = & Np\\\\\n",
    "Var(X) & = & Np(1-p)\\\\\n",
    "Simetria(X) & = & \\frac{1-2p}{\\sqrt{np(1-p)}}\\\\\n",
    "Curtosis(X) & = & \\frac{1-6p(1-p)}{np(1-p)}\\\\\n",
    "\\end{array}\n",
    "\\end{equation}$"
   ]
  },
  {
   "cell_type": "markdown",
   "metadata": {
    "id": "SzgKZzqsRivW"
   },
   "source": [
    "### Simulación Variable Aleatoria con Distribución Binomial\n",
    "En esta sección utilizaremos la función generadora de valores aleatorios para la distribución binomial, y se compara la distribución empírica con la distribución teórica"
   ]
  },
  {
   "cell_type": "code",
   "execution_count": null,
   "metadata": {
    "colab": {
     "base_uri": "https://localhost:8080/",
     "height": 292
    },
    "id": "VY6W8Q0RRivW",
    "outputId": "98b42c68-40f2-46a7-fc18-0481ee6dd8f3"
   },
   "outputs": [],
   "source": [
    "## simulación de size valores v.a. binomial\n",
    "size=100\n",
    "n=50\n",
    "p=0.2\n",
    "datos_bin =stats.binom.rvs(n=n, p=p, size=size)\n",
    "\n",
    "binwidth = 4\n",
    "fig, ax = plt.subplots(1, 1, figsize=(6, 4), dpi=80)\n",
    "ax.hist(datos_bin, color = 'blue', edgecolor = 'black', bins = int(50/binwidth))\n",
    "## probabilidad teórica\n",
    "ax2 = ax.twinx()\n",
    "vec = list(range(n+1))\n",
    "##\n",
    "pvec = []\n",
    "for i in vec:\n",
    "    pvec.append(stats.binom.pmf(k=i, n=n, p=p))\n",
    "ax2.plot(vec,pvec)\n",
    "plt.draw()\n"
   ]
  },
  {
   "cell_type": "code",
   "execution_count": null,
   "metadata": {
    "colab": {
     "base_uri": "https://localhost:8080/"
    },
    "id": "kuyEiFswTWlX",
    "outputId": "6c65e8b9-947c-4631-b1dd-7c0d741a9233"
   },
   "outputs": [],
   "source": [
    "print(datos_bin.shape)"
   ]
  },
  {
   "cell_type": "code",
   "execution_count": null,
   "metadata": {
    "colab": {
     "base_uri": "https://localhost:8080/",
     "height": 292
    },
    "id": "py8tkk21RivY",
    "outputId": "3bfcc62d-7a4e-4f84-955f-de36f1d33209"
   },
   "outputs": [],
   "source": [
    "## gráfica de la distribución empírica acumulada\n",
    "def ecdf(data):\n",
    "    \"\"\" Calcula la distribución empírica acumulada\"\"\"\n",
    "    x = np.sort(data)\n",
    "    n = x.size\n",
    "    y = np.arange(1, n+1) / n\n",
    "    return(x,y)\n",
    "\n",
    "fig, ax = plt.subplots(1, 1,figsize=(6, 4), dpi=80)\n",
    "\n",
    "x,cum_bin = ecdf(datos_bin)\n",
    "ax.bar(x,cum_bin)\n",
    "## probabilidad teórica\n",
    "ax2 = ax.twinx()\n",
    "vec = list(range(51))\n",
    "##\n",
    "pvec = []\n",
    "for i in vec:\n",
    "    pvec.append(stats.binom.cdf(k=i, n=n, p=p))\n",
    "ax2.plot(vec,pvec)\n",
    "plt.draw()\n"
   ]
  },
  {
   "cell_type": "code",
   "execution_count": null,
   "metadata": {
    "colab": {
     "base_uri": "https://localhost:8080/"
    },
    "id": "FYjq7zJHRivZ",
    "outputId": "d9b02d8f-433d-4117-da80-a4b4fdeb4cda"
   },
   "outputs": [],
   "source": [
    "## Cálculo de esperanza y varianza empírica y teórica\n",
    "promedio = sum(datos_bin)/size\n",
    "var_emp = sum((datos_bin - promedio)*(datos_bin-promedio))/size\n",
    "asim = stats.skew(datos_bin)\n",
    "curtos = stats.kurtosis(datos_bin)\n",
    "print('esperanza empírica:',promedio,' teórica: ',n*p)\n",
    "print('varianza empírica:',var_emp,' teórica: ', n*p*(1-p))\n",
    "print('asimetría empírica:', asim, 'teórica: ',(1-2*p)/(math.sqrt(n*p*(1-p))))\n",
    "print('curtosis empírico: ', curtos, 'teórico: ',(1-6*p*(1-p))/(n*p*(1-p)))"
   ]
  },
  {
   "cell_type": "markdown",
   "metadata": {
    "id": "mM3jIbB6RivZ"
   },
   "source": [
    "#### Ejercicio 1: \n",
    "1) ¿Cuántas simulaciones es necesario hacer para acercarse a los valores teóricos?\n",
    "\n",
    "| Esperanza teórica | Varianza teórica | Asimetria teórica | Curtosis teórica |\n",
    "| --- | --- | --- | --- |\n",
    "| 10.0 | 8.0 | 0.2121 | 0.0049 |\n",
    "\n",
    "\n",
    "\n",
    "| Size | Esperanza empírica | Varianza empírica | Asimetria empírica | Curtosis empírica |\n",
    "| --- | --- | --- | --- | ---| \n",
    "| 100 | 9.81 | 8.6339 | 0.3877 | -0.607 |\n",
    "| 1000 | 10.011 | 7.7848 | 0.2433 | -0.082 |\n",
    "| 5000 | 9.9806 | 7.9198 | 0.1817 | -0.105 |\n",
    "| 10000 | 9.982 | 8.0736 | 0.1927 | 0.0042 |\n",
    "\n",
    "2) Cambie los valores de los parámetros y analice si hay cambios en su respuesta en (1)"
   ]
  },
  {
   "cell_type": "code",
   "execution_count": null,
   "metadata": {
    "colab": {
     "base_uri": "https://localhost:8080/"
    },
    "id": "l9Firf0WcwTc",
    "outputId": "1c841b23-5ccd-440f-e99a-f7f504ba390d"
   },
   "outputs": [],
   "source": [
    "def percenDiff(a,b):\n",
    "  return ((b/a) * 100) - 100\n",
    "\n",
    "def getData(datos_bin):\n",
    "  promedio = sum(datos_bin)/size\n",
    "  var_emp = sum((datos_bin - promedio)*(datos_bin-promedio))/size\n",
    "  asim = stats.skew(datos_bin)\n",
    "  curtos = stats.kurtosis(datos_bin)\n",
    "  print('esperanza empírica:',promedio,' ; teórica: ',n*p, '#### diff%: ', percenDiff(promedio, n*p))\n",
    "  print('varianza empírica:',var_emp,' ; teórica: ', n*p*(1-p), '### diff%: ', percenDiff(var_emp, n*p*(1-p)))\n",
    "  print('asimetría empírica:', asim, ' ; teórica: ',(1-2*p)/(math.sqrt(n*p*(1-p))), '### diff%: ', percenDiff(asim, (1-2*p)/(math.sqrt(n*p*(1-p)))))\n",
    "  print('curtosis empírico: ', curtos, ' ; teórico: ',(1-6*p*(1-p))/(n*p*(1-p)), '   ### diff%: ', percenDiff(curtos, (1-6*p*(1-p))/(n*p*(1-p))))\n",
    "  print(\"\")\n",
    "\n",
    "for i in range(10):\n",
    "  size = random.randint(1000, 100000)\n",
    "  n = random.randint(1, 1000)\n",
    "  p = random.uniform(0, 1)\n",
    "  datos_bin =stats.binom.rvs(n=n, p=p, size=size)\n",
    "  print(\"Size:\", size, \"; n:\", n, \"; p:\", p)\n",
    "  getData(datos_bin)\n"
   ]
  },
  {
   "cell_type": "markdown",
   "metadata": {
    "id": "IrV9MhkLRivZ"
   },
   "source": [
    "#### Ejercicio 2: \n",
    "Realice un desarrollo similar al caso de la Distribución Binomial para el caso de una variable aleatoria con Distribución de Probabilidad Poisson"
   ]
  },
  {
   "cell_type": "code",
   "execution_count": null,
   "metadata": {
    "colab": {
     "base_uri": "https://localhost:8080/",
     "height": 292
    },
    "id": "2xlKFCwIbfd2",
    "outputId": "5db794d2-5a24-40a7-ebc1-1ab629083285"
   },
   "outputs": [],
   "source": [
    "## simulación de size valores v.a. poisson\n",
    "size = 100\n",
    "mu = 20\n",
    "datos_poisson =stats.poisson.rvs(mu=mu, size=size) \n",
    "binwidth = 4\n",
    "fig, ax = plt.subplots(1, 1, figsize=(6, 4), dpi=80)\n",
    "ax.hist(datos_poisson, color = 'blue', edgecolor = 'black', bins = int(40/binwidth))\n",
    "## probabilidad teórica\n",
    "ax2 = ax.twinx()\n",
    "\n",
    "vec = list(range(40))\n",
    "##\n",
    "\n",
    "pvec = []\n",
    "for i in vec:\n",
    "    pvec.append(stats.poisson.pmf(k=i, mu=mu))\n",
    "ax2.plot(vec,pvec)\n",
    "plt.draw()"
   ]
  },
  {
   "cell_type": "code",
   "execution_count": null,
   "metadata": {
    "colab": {
     "base_uri": "https://localhost:8080/",
     "height": 292
    },
    "id": "0BjA4u0nZzNv",
    "outputId": "d45afd55-44b0-44ba-bc77-3efe1e51cdb7"
   },
   "outputs": [],
   "source": [
    "fig, ax = plt.subplots(1, 1,figsize=(6, 4), dpi=80)\n",
    "\n",
    "x, cum_poisson = ecdf(np.reshape(datos_poisson, -1)) # no tenemos claro por qué es necesario ese reshape\n",
    "ax.bar(x,cum_poisson)\n",
    "\n",
    "## probabilidad teórica\n",
    "ax2 = ax.twinx()\n",
    "vec = list(range(100))\n",
    "##\n",
    "pvec = []\n",
    "for i in vec:\n",
    "    pvec.append(stats.poisson.cdf(k=i, mu=mu))\n",
    "ax2.plot(vec,pvec)\n",
    "plt.draw()\n"
   ]
  },
  {
   "cell_type": "code",
   "execution_count": null,
   "metadata": {
    "colab": {
     "base_uri": "https://localhost:8080/"
    },
    "id": "1jgLRt-OM1lo",
    "outputId": "4284c180-df0b-485b-a628-deaa6d69d3c0"
   },
   "outputs": [],
   "source": [
    "## Cálculo de esperanza y varianza empírica y teórica\n",
    "promedio = sum(datos_poisson)/size\n",
    "var_emp = sum((datos_poisson - promedio)*(datos_poisson-promedio))/size\n",
    "asim = stats.skew(datos_poisson)\n",
    "curtos = stats.kurtosis(datos_poisson)\n",
    "\n",
    "mean, var, skew, kurt = stats.poisson.stats(mu, moments='mvsk')\n",
    "\n",
    "\n",
    "print('esperanza empírica:',promedio,' teórica: ', mean)\n",
    "print('varianza empírica:',var_emp,' teórica: ', var)\n",
    "print('asimetría empírica:', asim, 'teórica: ', skew)\n",
    "print('curtosis empírico: ', curtos, 'teórico: ', kurt)"
   ]
  },
  {
   "cell_type": "markdown",
   "metadata": {
    "id": "__TxS3SZRiva"
   },
   "source": [
    "#### Distribución Normal o Gaussiana\n",
    "Sea $X$ v.a. continua, es normal de media $\\mu$ y varianza $\\sigma^2$ y se denota $\\cal{N}(\\mu,\\sigma^2)$ si su densidad de probabilidad cumple:\n",
    "\n",
    "\n",
    "$\\begin{equation}\n",
    "\\begin{array}{lll} \n",
    "f_X(x) & = & \\frac{1}{\\sqrt{2\\pi}\\sigma} exp(\\frac{-(x-\\mu)^2}{2\\sigma^2})\\qquad, -\\infty < x <\\infty\\\\\n",
    "E[X] &= &\\mu\\\\\n",
    "Var(X)& =& \\sigma^2\\\\\n",
    "\\end{array}\n",
    "\\end{equation}$\n",
    "\n",
    "Esta es la distribución de probabilidad mas utilizada. Muchas variables se distribuyen aproximadamente normales (altura, peso, satisfacción en el trabajo, etc.). \n",
    "\n",
    "Permite modelar los errores o ruidos.\n",
    "\n",
    "¿Cómo se verifica que una v.a. sigue una distribución normal?\n",
    "\n",
    "Test de normalidad de Shapiro-Wilk, Q-Q plot\n"
   ]
  },
  {
   "cell_type": "markdown",
   "metadata": {
    "id": "UX2x9ugORiva"
   },
   "source": [
    "### Simulación Variable Aleatoria con Distribución Normal\n",
    "En esta sección utilizaremos la función generadora de valores aleatorios para la distribución normal, y se compara la distribución empírica con la distribución teórica"
   ]
  },
  {
   "cell_type": "code",
   "execution_count": null,
   "metadata": {
    "id": "qyiiEeyqRiva"
   },
   "outputs": [],
   "source": [
    "## simulación de size valores v.a. normal\n",
    "size=100\n",
    "mu=50\n",
    "sigma=10\n",
    "datos_norm =stats.norm.rvs(loc=mu, scale= sigma, size=size) \n",
    "binwidth = 4\n",
    "fig, ax = plt.subplots(1, 1,figsize=(6, 4), dpi=80)\n",
    "ax.hist(datos_norm, color = 'blue', edgecolor = 'black', bins = int(2*mu/binwidth))\n",
    "## probabilidad teórica\n",
    "ax2 = ax.twinx()\n",
    "vec = list(range(2*mu+1))\n",
    "##\n",
    "pvec = []\n",
    "for i in vec:\n",
    "    pvec.append(stats.norm.pdf(x=i, loc=mu, scale= sigma))\n",
    "ax2.plot(vec,pvec)\n",
    "plt.draw()\n"
   ]
  },
  {
   "cell_type": "code",
   "execution_count": null,
   "metadata": {
    "id": "wGlC0gofRivc"
   },
   "outputs": [],
   "source": [
    "## gráfica de la distribución empírica acumulada\n",
    "def ecdf(data):\n",
    "    \"\"\" Calcula la distribución empírica acumulada\"\"\"\n",
    "    x = np.sort(data)\n",
    "    n = x.size\n",
    "    y = np.arange(1, n+1) / n\n",
    "    return(x,y)\n",
    "\n",
    "fig, ax = plt.subplots(1, 1,figsize=(6, 4), dpi=80)\n",
    "\n",
    "x,cum_norm = ecdf(datos_norm)\n",
    "ax.bar(x,cum_norm)\n",
    "## probabilidad teórica\n",
    "ax2 = ax.twinx()\n",
    "vec = list(range(2*mu+1))\n",
    "##\n",
    "pvec = []\n",
    "for i in vec:\n",
    "    pvec.append(stats.norm.cdf(x=i, loc=mu, scale=sigma))\n",
    "ax2.plot(vec,pvec)\n",
    "plt.draw()\n"
   ]
  },
  {
   "cell_type": "code",
   "execution_count": null,
   "metadata": {
    "id": "I6R2jF6oRivc"
   },
   "outputs": [],
   "source": [
    "## Cálculo de esperanza y varianza empírica y teórica\n",
    "promedio = sum(datos_norm)/size\n",
    "var_emp = sum((datos_norm - promedio)*(datos_norm-promedio))/size\n",
    "asim = stats.skew(datos_norm)\n",
    "curtos = stats.kurtosis(datos_norm)\n",
    "print('esperanza empírica:',promedio,' teórica: ',mu)\n",
    "print('varianza empírica:',var_emp,' teórica: ', sigma*sigma)\n",
    "print('asimetría empírica:', asim, 'teórica: ',0)\n",
    "print('curtosis empírico: ', curtos, 'teórico: ',0)\n"
   ]
  },
  {
   "cell_type": "markdown",
   "metadata": {
    "id": "kDUfbbUnRivc"
   },
   "source": [
    "#### Ejercicio 3: \n",
    "1) ¿Cuántas simulaciones es necesario hacer para acercarse a los valores teóricos?\n",
    "\n",
    "2) Cambie los valores de los parámetros y analice si hay cambios en su respuesta en (1)"
   ]
  },
  {
   "cell_type": "markdown",
   "metadata": {
    "id": "Vw3wyoTsRivd"
   },
   "source": [
    "#### Ejercicio 4: \n",
    "Realice un desarrollo similar para el caso de una variable aleatoria continua distribuída chi-cuadrado de $k$ grados de libertad"
   ]
  },
  {
   "cell_type": "markdown",
   "metadata": {
    "id": "nPfaM9kbRivd"
   },
   "source": [
    "#### Ejercicio 5 (2 puntos):\n",
    "Utilice datos de sismicidad del Centro de Sismológico Nacional (http://evtdb.csn.uchile.cl/events), escoja dos  regiones geográficas en Chile (y la región del océano Pacífico contigua), con dimensiones de al menos 5 grados, tanto en longitud como latitud y grafique los histogramas de magnitud y profundidad de los eventos sísmicos significativos disponibles. Calcule parámetros empíricos para cada serie de datos.  Compare y concluya."
   ]
  },
  {
   "cell_type": "markdown",
   "metadata": {},
   "source": [
    "### Respuesta\n",
    "Región 1: \n",
    "\n",
    "- latitud: [-45, -35] # Linares hasta Puerto Aysén\n",
    "- longitud: [-80, -72] # Frontera con Argentina hasta oceano pacífico\n",
    "\n",
    "Región 2:\n",
    "\n",
    "- latitud: [-30, -20] # Iquique hasta La Serena\n",
    "- longitud: [-80 ,-68]  # Frontera con Argentina hasta oceano pacífico\n"
   ]
  },
  {
   "cell_type": "code",
   "execution_count": null,
   "metadata": {
    "scrolled": false
   },
   "outputs": [],
   "source": [
    "def printResults(df):\n",
    "    promedio = sum(df)/df.size\n",
    "    var_emp = sum((df - promedio)*(df-promedio))/df.size\n",
    "    asim = stats.skew(df)\n",
    "    curtos = stats.kurtosis(df)\n",
    "    print(\"promedio: \", promedio)\n",
    "    print(\"varianza eprint: \",var_emp)\n",
    "    print(\"Asimetría: \", asim)\n",
    "    print(\"Curtosis: \", curtos)\n",
    "    print(\"\\n\")\n",
    "    \n",
    "data1 = pd.read_csv('data/region1.txt', delimiter= '\\t')\n",
    "data2 = pd.read_csv('data/region2.txt', delimiter= '\\t')\n",
    "display(\"Región de estudio 1 \")\n",
    "display(data1.head(3))\n",
    "display(\"Región de estudio 2 \")\n",
    "display(data2.head(3))\n"
   ]
  },
  {
   "cell_type": "code",
   "execution_count": null,
   "metadata": {
    "scrolled": false
   },
   "outputs": [],
   "source": [
    "df1 = data1.iloc[:,3]\n",
    "df2 = data1.iloc[:,4]\n",
    "df3 = data2.iloc[:,3]\n",
    "df4 = data2.iloc[:,4]\n",
    "\n",
    "fig, axs = plt.subplots(2,2,figsize=(14, 6), tight_layout=True)\n",
    "axs[0,0].hist(df1, edgecolor = 'black',bins = 15)\n",
    "axs[0,0].set_xlabel('Profundidad')\n",
    "axs[0,0].set_ylabel('Número de sismos')\n",
    "axs[0,0].set_title('Región de estudio 1')\n",
    "\n",
    "axs[0,1].hist(df2, color='red', edgecolor = 'black',bins = 15)\n",
    "axs[0,1].set_xlabel('Maginitud')\n",
    "axs[0,1].set_ylabel('Número de sismos')\n",
    "axs[0,1].set_title('Región de estudio 1')\n",
    "\n",
    "axs[1,0].hist(df3, edgecolor = 'black',bins = 15)\n",
    "axs[1,0].set_xlabel('Profundidad')\n",
    "axs[1,0].set_ylabel('Número de sismos')\n",
    "axs[1,0].set_title('Región de estudio 2')\n",
    "\n",
    "axs[1,1].hist(df4, color='red', edgecolor = 'black',bins=15)\n",
    "axs[1,1].set_xlabel('Maginitud')\n",
    "axs[1,1].set_ylabel('Número de sismos')\n",
    "axs[1,1].set_title('Región de estudio 2')\n",
    "\n",
    "plt.show()\n"
   ]
  },
  {
   "cell_type": "code",
   "execution_count": null,
   "metadata": {},
   "outputs": [],
   "source": [
    "print(\"Región de estudio 1: Profundidad\")\n",
    "printResults(df1)\n",
    "print(\"Región de estudio 1: Magnitud\")\n",
    "printResults(df2)\n",
    "print(\"Región de estudio 2: Profundidad\")\n",
    "printResults(df3)\n",
    "print(\"Región de estudio 2: Magnitud\")\n",
    "printResults(df4)"
   ]
  },
  {
   "cell_type": "markdown",
   "metadata": {
    "id": "1LwwkyZrRivd"
   },
   "source": [
    "### Referencias\n",
    "\n",
    "https://github.com/WillKoehrsen/Data-Analysis/blob/master/univariate_dist/Histogram%20and%20Density%20Plot.ipynb\n"
   ]
  }
 ],
 "metadata": {
  "colab": {
   "collapsed_sections": [],
   "name": "Copy of Laboratorio2.ipynb",
   "provenance": []
  },
  "kernelspec": {
   "display_name": "Python 3 (ipykernel)",
   "language": "python",
   "name": "python3"
  },
  "language_info": {
   "codemirror_mode": {
    "name": "ipython",
    "version": 3
   },
   "file_extension": ".py",
   "mimetype": "text/x-python",
   "name": "python",
   "nbconvert_exporter": "python",
   "pygments_lexer": "ipython3",
   "version": "3.8.10"
  }
 },
 "nbformat": 4,
 "nbformat_minor": 1
}
